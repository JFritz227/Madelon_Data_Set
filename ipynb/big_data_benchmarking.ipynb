{
 "cells": [
  {
   "cell_type": "code",
   "execution_count": 1,
   "metadata": {},
   "outputs": [
    {
     "name": "stdout",
     "output_type": "stream",
     "text": [
      "/home/jovyan/Project_3_madelon\n"
     ]
    }
   ],
   "source": [
    "cd .."
   ]
  },
  {
   "cell_type": "code",
   "execution_count": 2,
   "metadata": {},
   "outputs": [],
   "source": [
    "%run __init__.py"
   ]
  },
  {
   "cell_type": "code",
   "execution_count": 3,
   "metadata": {},
   "outputs": [],
   "source": [
    "twenty_feats_df = pd.read_pickle('data/informative_results_df.p')\n",
    "twenty_feats_df = twenty_feats_df.rename(columns = {'target':'targets'})"
   ]
  },
  {
   "cell_type": "code",
   "execution_count": 4,
   "metadata": {
    "collapsed": true
   },
   "outputs": [],
   "source": [
    "train_df = twenty_feats_df.sample(20000, random_state = 42)\n",
    "val_df = twenty_feats_df.sample(2000, random_state = 24)"
   ]
  },
  {
   "cell_type": "code",
   "execution_count": 5,
   "metadata": {},
   "outputs": [],
   "source": [
    "scores_df = pd.DataFrame()\n",
    "\n",
    "knc = add_train_test_score_df(train_df, val_df, KNeighborsClassifier())\n",
    "dtc = add_train_test_score_df(train_df, val_df, DecisionTreeClassifier(random_state = 42))\n",
    "rfc = add_train_test_score_df(train_df, val_df, RandomForestClassifier(random_state = 42))\n",
    "lr = add_train_test_score_df(train_df, val_df, LogisticRegression())\n",
    "\n",
    "\n",
    "scores_df['KNeighborsClassifier'] = knc\n",
    "scores_df['DecisionTreeClassifier'] = dtc\n",
    "scores_df['RandomForestClassifier'] = rfc\n",
    "scores_df['LogisticRegression'] = lr\n",
    "\n",
    "scores_df = scores_df.rename(index = {0:'Train Score', 1:'Test Score'})\n",
    "scores_df.to_csv('files/raw_benchmark_bigdata')"
   ]
  },
  {
   "cell_type": "code",
   "execution_count": null,
   "metadata": {
    "collapsed": true
   },
   "outputs": [],
   "source": []
  }
 ],
 "metadata": {
  "kernelspec": {
   "display_name": "Python 3",
   "language": "python",
   "name": "python3"
  },
  "language_info": {
   "codemirror_mode": {
    "name": "ipython",
    "version": 3
   },
   "file_extension": ".py",
   "mimetype": "text/x-python",
   "name": "python",
   "nbconvert_exporter": "python",
   "pygments_lexer": "ipython3",
   "version": "3.6.2"
  }
 },
 "nbformat": 4,
 "nbformat_minor": 2
}
