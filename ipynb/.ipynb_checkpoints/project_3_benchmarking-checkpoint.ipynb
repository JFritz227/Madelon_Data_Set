{
 "cells": [
  {
   "cell_type": "code",
   "execution_count": 1,
   "metadata": {},
   "outputs": [
    {
     "name": "stdout",
     "output_type": "stream",
     "text": [
      "/home/jovyan/Project_3_madelon\n"
     ]
    }
   ],
   "source": [
    "cd .."
   ]
  },
  {
   "cell_type": "code",
   "execution_count": 2,
   "metadata": {},
   "outputs": [],
   "source": [
    "%run __init__.py"
   ]
  },
  {
   "cell_type": "code",
   "execution_count": 3,
   "metadata": {
    "collapsed": true
   },
   "outputs": [],
   "source": [
    "informative_features = [28, 48, 64, 105, 128, 153, 241, 281, 318, 336,\n",
    "                        338, 378, 433, 442, 451, 453, 455, 472, 475, 493]"
   ]
  },
  {
   "cell_type": "code",
   "execution_count": 4,
   "metadata": {},
   "outputs": [],
   "source": [
    "madelon_train_full = pd.read_csv('data/madelon_train.txt', sep = ' ', header = None)\n",
    "train_targets = pd.read_csv('data/madelon_train_targets.txt', sep = ' ', header = None)\n",
    "train_df = madelon_train_full[informative_features]\n",
    "train_df['targets'] = train_targets"
   ]
  },
  {
   "cell_type": "code",
   "execution_count": 5,
   "metadata": {},
   "outputs": [],
   "source": [
    "madelon_val_full = pd.read_csv('data/madelon_valid.txt', sep = ' ', header = None)\n",
    "val_targets = pd.read_csv('data/madelon_valid_targets.txt', sep = ' ', header = None)\n",
    "val_df = madelon_val_full[informative_features]\n",
    "val_df['targets'] = val_targets"
   ]
  },
  {
   "cell_type": "markdown",
   "metadata": {},
   "source": [
    "# Benchmarking Raw Data"
   ]
  },
  {
   "cell_type": "code",
   "execution_count": 6,
   "metadata": {},
   "outputs": [
    {
     "data": {
      "text/html": [
       "<div>\n",
       "<table border=\"1\" class=\"dataframe\">\n",
       "  <thead>\n",
       "    <tr style=\"text-align: right;\">\n",
       "      <th></th>\n",
       "      <th>KNeighborsRegressor</th>\n",
       "      <th>KNeighborsClassifier</th>\n",
       "      <th>DecisionTreeClassifier</th>\n",
       "      <th>RandomForestClassifier</th>\n",
       "      <th>LogisticRegression</th>\n",
       "    </tr>\n",
       "  </thead>\n",
       "  <tbody>\n",
       "    <tr>\n",
       "      <th>Raw Train Score</th>\n",
       "      <td>0.538986</td>\n",
       "      <td>0.838333</td>\n",
       "      <td>1.000000</td>\n",
       "      <td>0.976667</td>\n",
       "      <td>0.655000</td>\n",
       "    </tr>\n",
       "    <tr>\n",
       "      <th>Raw Test Score</th>\n",
       "      <td>0.331400</td>\n",
       "      <td>0.744444</td>\n",
       "      <td>0.722222</td>\n",
       "      <td>0.683333</td>\n",
       "      <td>0.522222</td>\n",
       "    </tr>\n",
       "  </tbody>\n",
       "</table>\n",
       "</div>"
      ],
      "text/plain": [
       "                 KNeighborsRegressor  KNeighborsClassifier  \\\n",
       "Raw Train Score             0.538986              0.838333   \n",
       "Raw Test Score              0.331400              0.744444   \n",
       "\n",
       "                 DecisionTreeClassifier  RandomForestClassifier  \\\n",
       "Raw Train Score                1.000000                0.976667   \n",
       "Raw Test Score                 0.722222                0.683333   \n",
       "\n",
       "                 LogisticRegression  \n",
       "Raw Train Score            0.655000  \n",
       "Raw Test Score             0.522222  "
      ]
     },
     "execution_count": 6,
     "metadata": {},
     "output_type": "execute_result"
    }
   ],
   "source": [
    "scores_df = pd.DataFrame()\n",
    "\n",
    "knr = add_train_test_score_df(train_df, val_df, KNeighborsRegressor())\n",
    "knc = add_train_test_score_df(train_df, val_df, KNeighborsClassifier())\n",
    "dtc = add_train_test_score_df(train_df, val_df, DecisionTreeClassifier(random_state = 42))\n",
    "rfc = add_train_test_score_df(train_df, val_df, RandomForestClassifier(random_state = 42))\n",
    "lr = add_train_test_score_df(train_df, val_df, LogisticRegression())\n",
    "\n",
    "\n",
    "scores_df['KNeighborsRegressor'] = knr\n",
    "scores_df['KNeighborsClassifier'] = knc\n",
    "scores_df['DecisionTreeClassifier'] = dtc\n",
    "scores_df['RandomForestClassifier'] = rfc\n",
    "scores_df['LogisticRegression'] = lr\n",
    "\n",
    "scores_df = scores_df.rename(index = {0:'Raw Train Score', 1:'Raw Test Score'})\n",
    "scores_df"
   ]
  },
  {
   "cell_type": "markdown",
   "metadata": {},
   "source": [
    "# Benchmarking Scaled Data"
   ]
  },
  {
   "cell_type": "code",
   "execution_count": 7,
   "metadata": {},
   "outputs": [
    {
     "data": {
      "text/html": [
       "<div>\n",
       "<table border=\"1\" class=\"dataframe\">\n",
       "  <thead>\n",
       "    <tr style=\"text-align: right;\">\n",
       "      <th></th>\n",
       "      <th>KNeighborsRegressor</th>\n",
       "      <th>KNeighborsClassifier</th>\n",
       "      <th>DecisionTreeClassifier</th>\n",
       "      <th>RandomForestClassifier</th>\n",
       "      <th>LogisticRegression</th>\n",
       "    </tr>\n",
       "  </thead>\n",
       "  <tbody>\n",
       "    <tr>\n",
       "      <th>Scaled Train Score</th>\n",
       "      <td>0.612077</td>\n",
       "      <td>0.876667</td>\n",
       "      <td>1.000000</td>\n",
       "      <td>0.976667</td>\n",
       "      <td>0.630000</td>\n",
       "    </tr>\n",
       "    <tr>\n",
       "      <th>Scaled Test Score</th>\n",
       "      <td>0.355574</td>\n",
       "      <td>0.772222</td>\n",
       "      <td>0.688889</td>\n",
       "      <td>0.683333</td>\n",
       "      <td>0.533333</td>\n",
       "    </tr>\n",
       "  </tbody>\n",
       "</table>\n",
       "</div>"
      ],
      "text/plain": [
       "                    KNeighborsRegressor  KNeighborsClassifier  \\\n",
       "Scaled Train Score             0.612077              0.876667   \n",
       "Scaled Test Score              0.355574              0.772222   \n",
       "\n",
       "                    DecisionTreeClassifier  RandomForestClassifier  \\\n",
       "Scaled Train Score                1.000000                0.976667   \n",
       "Scaled Test Score                 0.688889                0.683333   \n",
       "\n",
       "                    LogisticRegression  \n",
       "Scaled Train Score            0.630000  \n",
       "Scaled Test Score             0.533333  "
      ]
     },
     "execution_count": 7,
     "metadata": {},
     "output_type": "execute_result"
    }
   ],
   "source": [
    "scaled_scores_df = pd.DataFrame()\n",
    "\n",
    "scaled_knr = add_train_test_score_df(train_df, val_df, KNeighborsRegressor(), scaled=True)\n",
    "scaled_knc = add_train_test_score_df(train_df, val_df, KNeighborsClassifier(), scaled=True)\n",
    "scaled_dtc = add_train_test_score_df(train_df, val_df, DecisionTreeClassifier(random_state = 42), scaled=True)\n",
    "scaled_rfc = add_train_test_score_df(train_df, val_df, RandomForestClassifier(random_state = 42), scaled=True)\n",
    "scaled_lr = add_train_test_score_df(train_df, val_df, LogisticRegression(), scaled=True)\n",
    "\n",
    "\n",
    "scaled_scores_df['KNeighborsRegressor'] = scaled_knr\n",
    "scaled_scores_df['KNeighborsClassifier'] = scaled_knc\n",
    "scaled_scores_df['DecisionTreeClassifier'] = scaled_dtc\n",
    "scaled_scores_df['RandomForestClassifier'] = scaled_rfc\n",
    "scaled_scores_df['LogisticRegression'] = scaled_lr\n",
    "\n",
    "scaled_scores_df = scaled_scores_df.rename(index = {0:'Scaled Train Score', 1:'Scaled Test Score'})\n",
    "scaled_scores_df"
   ]
  }
 ],
 "metadata": {
  "kernelspec": {
   "display_name": "Python 3",
   "language": "python",
   "name": "python3"
  },
  "language_info": {
   "codemirror_mode": {
    "name": "ipython",
    "version": 3
   },
   "file_extension": ".py",
   "mimetype": "text/x-python",
   "name": "python",
   "nbconvert_exporter": "python",
   "pygments_lexer": "ipython3",
   "version": "3.6.2"
  }
 },
 "nbformat": 4,
 "nbformat_minor": 2
}
