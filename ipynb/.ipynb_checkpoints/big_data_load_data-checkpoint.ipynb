{
 "cells": [
  {
   "cell_type": "markdown",
   "metadata": {},
   "source": [
    "# Load in all 1000 features"
   ]
  },
  {
   "cell_type": "code",
   "execution_count": 1,
   "metadata": {},
   "outputs": [
    {
     "name": "stdout",
     "output_type": "stream",
     "text": [
      "/home/jovyan/Project_3_madelon\n"
     ]
    }
   ],
   "source": [
    "cd .."
   ]
  },
  {
   "cell_type": "code",
   "execution_count": 2,
   "metadata": {},
   "outputs": [
    {
     "name": "stdout",
     "output_type": "stream",
     "text": [
      "Fetching package metadata ...........\n",
      "Solving package specifications: .\n",
      "\n",
      "# All requested packages already installed.\n",
      "# packages in environment at /opt/conda:\n",
      "#\n",
      "psycopg2                  2.7.3.2                  py36_0    conda-forge\n"
     ]
    }
   ],
   "source": [
    "!conda install psycopg2 --yes"
   ]
  },
  {
   "cell_type": "code",
   "execution_count": 3,
   "metadata": {
    "collapsed": true
   },
   "outputs": [],
   "source": [
    "%run __init__.py"
   ]
  },
  {
   "cell_type": "code",
   "execution_count": 4,
   "metadata": {
    "collapsed": true
   },
   "outputs": [],
   "source": [
    "con = pg2.connect(host='34.211.227.227',\n",
    "                  dbname='postgres',\n",
    "                  user='postgres')"
   ]
  },
  {
   "cell_type": "code",
   "execution_count": 5,
   "metadata": {
    "collapsed": true
   },
   "outputs": [],
   "source": [
    "cur = con.cursor(cursor_factory=RealDictCursor)"
   ]
  },
  {
   "cell_type": "code",
   "execution_count": 6,
   "metadata": {
    "collapsed": true
   },
   "outputs": [],
   "source": [
    "cur.execute('SELECT * FROM madelon ORDER BY random() LIMIT 4000;')"
   ]
  },
  {
   "cell_type": "code",
   "execution_count": 7,
   "metadata": {
    "collapsed": true
   },
   "outputs": [],
   "source": [
    "results = cur.fetchall()"
   ]
  },
  {
   "cell_type": "code",
   "execution_count": 8,
   "metadata": {
    "collapsed": true
   },
   "outputs": [],
   "source": [
    "con.close()"
   ]
  },
  {
   "cell_type": "code",
   "execution_count": 13,
   "metadata": {
    "collapsed": true
   },
   "outputs": [],
   "source": [
    "results_df = pd.DataFrame(results)"
   ]
  },
  {
   "cell_type": "code",
   "execution_count": 14,
   "metadata": {},
   "outputs": [
    {
     "data": {
      "text/html": [
       "<div>\n",
       "<table border=\"1\" class=\"dataframe\">\n",
       "  <thead>\n",
       "    <tr style=\"text-align: right;\">\n",
       "      <th></th>\n",
       "      <th>_id</th>\n",
       "      <th>feat_000</th>\n",
       "      <th>feat_001</th>\n",
       "      <th>feat_002</th>\n",
       "      <th>feat_003</th>\n",
       "      <th>feat_004</th>\n",
       "      <th>feat_005</th>\n",
       "      <th>feat_006</th>\n",
       "      <th>feat_007</th>\n",
       "      <th>feat_008</th>\n",
       "      <th>...</th>\n",
       "      <th>feat_991</th>\n",
       "      <th>feat_992</th>\n",
       "      <th>feat_993</th>\n",
       "      <th>feat_994</th>\n",
       "      <th>feat_995</th>\n",
       "      <th>feat_996</th>\n",
       "      <th>feat_997</th>\n",
       "      <th>feat_998</th>\n",
       "      <th>feat_999</th>\n",
       "      <th>target</th>\n",
       "    </tr>\n",
       "  </thead>\n",
       "  <tbody>\n",
       "    <tr>\n",
       "      <th>0</th>\n",
       "      <td>105134</td>\n",
       "      <td>-0.772277</td>\n",
       "      <td>0.309950</td>\n",
       "      <td>0.353374</td>\n",
       "      <td>0.586183</td>\n",
       "      <td>0.064600</td>\n",
       "      <td>-1.387633</td>\n",
       "      <td>-1.452810</td>\n",
       "      <td>0.464624</td>\n",
       "      <td>1.469127</td>\n",
       "      <td>...</td>\n",
       "      <td>-0.321001</td>\n",
       "      <td>1.123718</td>\n",
       "      <td>0.291653</td>\n",
       "      <td>-0.133049</td>\n",
       "      <td>0.147423</td>\n",
       "      <td>-1.537578</td>\n",
       "      <td>-0.651449</td>\n",
       "      <td>0.067909</td>\n",
       "      <td>0.282493</td>\n",
       "      <td>0</td>\n",
       "    </tr>\n",
       "    <tr>\n",
       "      <th>1</th>\n",
       "      <td>85589</td>\n",
       "      <td>-0.973686</td>\n",
       "      <td>-0.823021</td>\n",
       "      <td>-0.551026</td>\n",
       "      <td>-0.987692</td>\n",
       "      <td>0.685747</td>\n",
       "      <td>-0.493949</td>\n",
       "      <td>-0.351627</td>\n",
       "      <td>-1.963491</td>\n",
       "      <td>1.373265</td>\n",
       "      <td>...</td>\n",
       "      <td>0.775235</td>\n",
       "      <td>-2.882310</td>\n",
       "      <td>-0.047380</td>\n",
       "      <td>-0.501525</td>\n",
       "      <td>-0.132687</td>\n",
       "      <td>-1.563878</td>\n",
       "      <td>-0.531468</td>\n",
       "      <td>0.532061</td>\n",
       "      <td>-0.531889</td>\n",
       "      <td>0</td>\n",
       "    </tr>\n",
       "    <tr>\n",
       "      <th>2</th>\n",
       "      <td>191818</td>\n",
       "      <td>-0.610191</td>\n",
       "      <td>0.325556</td>\n",
       "      <td>-0.209671</td>\n",
       "      <td>0.012314</td>\n",
       "      <td>-0.153349</td>\n",
       "      <td>1.515362</td>\n",
       "      <td>1.156180</td>\n",
       "      <td>-2.044501</td>\n",
       "      <td>-0.052946</td>\n",
       "      <td>...</td>\n",
       "      <td>0.324277</td>\n",
       "      <td>0.249371</td>\n",
       "      <td>-0.769024</td>\n",
       "      <td>0.535386</td>\n",
       "      <td>2.387986</td>\n",
       "      <td>0.297248</td>\n",
       "      <td>0.463440</td>\n",
       "      <td>-0.288031</td>\n",
       "      <td>0.624660</td>\n",
       "      <td>1</td>\n",
       "    </tr>\n",
       "    <tr>\n",
       "      <th>3</th>\n",
       "      <td>186771</td>\n",
       "      <td>0.911695</td>\n",
       "      <td>0.246505</td>\n",
       "      <td>-1.003584</td>\n",
       "      <td>-0.353540</td>\n",
       "      <td>-0.728721</td>\n",
       "      <td>0.667333</td>\n",
       "      <td>0.192089</td>\n",
       "      <td>0.525450</td>\n",
       "      <td>-0.095109</td>\n",
       "      <td>...</td>\n",
       "      <td>0.026670</td>\n",
       "      <td>0.742294</td>\n",
       "      <td>0.335378</td>\n",
       "      <td>-1.245495</td>\n",
       "      <td>0.781699</td>\n",
       "      <td>0.786010</td>\n",
       "      <td>0.486496</td>\n",
       "      <td>-0.879839</td>\n",
       "      <td>0.975943</td>\n",
       "      <td>1</td>\n",
       "    </tr>\n",
       "    <tr>\n",
       "      <th>4</th>\n",
       "      <td>116476</td>\n",
       "      <td>0.427432</td>\n",
       "      <td>-0.053851</td>\n",
       "      <td>0.024788</td>\n",
       "      <td>0.960758</td>\n",
       "      <td>-1.040478</td>\n",
       "      <td>1.390386</td>\n",
       "      <td>-0.982466</td>\n",
       "      <td>-1.436877</td>\n",
       "      <td>0.504999</td>\n",
       "      <td>...</td>\n",
       "      <td>0.596605</td>\n",
       "      <td>0.504690</td>\n",
       "      <td>-0.938706</td>\n",
       "      <td>1.260060</td>\n",
       "      <td>-1.507441</td>\n",
       "      <td>0.973349</td>\n",
       "      <td>0.672362</td>\n",
       "      <td>0.300977</td>\n",
       "      <td>-0.005781</td>\n",
       "      <td>1</td>\n",
       "    </tr>\n",
       "  </tbody>\n",
       "</table>\n",
       "<p>5 rows × 1002 columns</p>\n",
       "</div>"
      ],
      "text/plain": [
       "      _id  feat_000  feat_001  feat_002  feat_003  feat_004  feat_005  \\\n",
       "0  105134 -0.772277  0.309950  0.353374  0.586183  0.064600 -1.387633   \n",
       "1   85589 -0.973686 -0.823021 -0.551026 -0.987692  0.685747 -0.493949   \n",
       "2  191818 -0.610191  0.325556 -0.209671  0.012314 -0.153349  1.515362   \n",
       "3  186771  0.911695  0.246505 -1.003584 -0.353540 -0.728721  0.667333   \n",
       "4  116476  0.427432 -0.053851  0.024788  0.960758 -1.040478  1.390386   \n",
       "\n",
       "   feat_006  feat_007  feat_008   ...    feat_991  feat_992  feat_993  \\\n",
       "0 -1.452810  0.464624  1.469127   ...   -0.321001  1.123718  0.291653   \n",
       "1 -0.351627 -1.963491  1.373265   ...    0.775235 -2.882310 -0.047380   \n",
       "2  1.156180 -2.044501 -0.052946   ...    0.324277  0.249371 -0.769024   \n",
       "3  0.192089  0.525450 -0.095109   ...    0.026670  0.742294  0.335378   \n",
       "4 -0.982466 -1.436877  0.504999   ...    0.596605  0.504690 -0.938706   \n",
       "\n",
       "   feat_994  feat_995  feat_996  feat_997  feat_998  feat_999  target  \n",
       "0 -0.133049  0.147423 -1.537578 -0.651449  0.067909  0.282493       0  \n",
       "1 -0.501525 -0.132687 -1.563878 -0.531468  0.532061 -0.531889       0  \n",
       "2  0.535386  2.387986  0.297248  0.463440 -0.288031  0.624660       1  \n",
       "3 -1.245495  0.781699  0.786010  0.486496 -0.879839  0.975943       1  \n",
       "4  1.260060 -1.507441  0.973349  0.672362  0.300977 -0.005781       1  \n",
       "\n",
       "[5 rows x 1002 columns]"
      ]
     },
     "execution_count": 14,
     "metadata": {},
     "output_type": "execute_result"
    }
   ],
   "source": [
    "results_df.head()"
   ]
  },
  {
   "cell_type": "code",
   "execution_count": 17,
   "metadata": {
    "collapsed": true
   },
   "outputs": [],
   "source": [
    "results_df.index = results_df['_id']\n",
    "del results_df['_id']"
   ]
  },
  {
   "cell_type": "code",
   "execution_count": 18,
   "metadata": {},
   "outputs": [
    {
     "data": {
      "text/html": [
       "<div>\n",
       "<table border=\"1\" class=\"dataframe\">\n",
       "  <thead>\n",
       "    <tr style=\"text-align: right;\">\n",
       "      <th></th>\n",
       "      <th>feat_000</th>\n",
       "      <th>feat_001</th>\n",
       "      <th>feat_002</th>\n",
       "      <th>feat_003</th>\n",
       "      <th>feat_004</th>\n",
       "      <th>feat_005</th>\n",
       "      <th>feat_006</th>\n",
       "      <th>feat_007</th>\n",
       "      <th>feat_008</th>\n",
       "      <th>feat_009</th>\n",
       "      <th>...</th>\n",
       "      <th>feat_991</th>\n",
       "      <th>feat_992</th>\n",
       "      <th>feat_993</th>\n",
       "      <th>feat_994</th>\n",
       "      <th>feat_995</th>\n",
       "      <th>feat_996</th>\n",
       "      <th>feat_997</th>\n",
       "      <th>feat_998</th>\n",
       "      <th>feat_999</th>\n",
       "      <th>target</th>\n",
       "    </tr>\n",
       "    <tr>\n",
       "      <th>_id</th>\n",
       "      <th></th>\n",
       "      <th></th>\n",
       "      <th></th>\n",
       "      <th></th>\n",
       "      <th></th>\n",
       "      <th></th>\n",
       "      <th></th>\n",
       "      <th></th>\n",
       "      <th></th>\n",
       "      <th></th>\n",
       "      <th></th>\n",
       "      <th></th>\n",
       "      <th></th>\n",
       "      <th></th>\n",
       "      <th></th>\n",
       "      <th></th>\n",
       "      <th></th>\n",
       "      <th></th>\n",
       "      <th></th>\n",
       "      <th></th>\n",
       "      <th></th>\n",
       "    </tr>\n",
       "  </thead>\n",
       "  <tbody>\n",
       "    <tr>\n",
       "      <th>105134</th>\n",
       "      <td>-0.772277</td>\n",
       "      <td>0.309950</td>\n",
       "      <td>0.353374</td>\n",
       "      <td>0.586183</td>\n",
       "      <td>0.064600</td>\n",
       "      <td>-1.387633</td>\n",
       "      <td>-1.452810</td>\n",
       "      <td>0.464624</td>\n",
       "      <td>1.469127</td>\n",
       "      <td>0.362242</td>\n",
       "      <td>...</td>\n",
       "      <td>-0.321001</td>\n",
       "      <td>1.123718</td>\n",
       "      <td>0.291653</td>\n",
       "      <td>-0.133049</td>\n",
       "      <td>0.147423</td>\n",
       "      <td>-1.537578</td>\n",
       "      <td>-0.651449</td>\n",
       "      <td>0.067909</td>\n",
       "      <td>0.282493</td>\n",
       "      <td>0</td>\n",
       "    </tr>\n",
       "    <tr>\n",
       "      <th>85589</th>\n",
       "      <td>-0.973686</td>\n",
       "      <td>-0.823021</td>\n",
       "      <td>-0.551026</td>\n",
       "      <td>-0.987692</td>\n",
       "      <td>0.685747</td>\n",
       "      <td>-0.493949</td>\n",
       "      <td>-0.351627</td>\n",
       "      <td>-1.963491</td>\n",
       "      <td>1.373265</td>\n",
       "      <td>-0.132725</td>\n",
       "      <td>...</td>\n",
       "      <td>0.775235</td>\n",
       "      <td>-2.882310</td>\n",
       "      <td>-0.047380</td>\n",
       "      <td>-0.501525</td>\n",
       "      <td>-0.132687</td>\n",
       "      <td>-1.563878</td>\n",
       "      <td>-0.531468</td>\n",
       "      <td>0.532061</td>\n",
       "      <td>-0.531889</td>\n",
       "      <td>0</td>\n",
       "    </tr>\n",
       "    <tr>\n",
       "      <th>191818</th>\n",
       "      <td>-0.610191</td>\n",
       "      <td>0.325556</td>\n",
       "      <td>-0.209671</td>\n",
       "      <td>0.012314</td>\n",
       "      <td>-0.153349</td>\n",
       "      <td>1.515362</td>\n",
       "      <td>1.156180</td>\n",
       "      <td>-2.044501</td>\n",
       "      <td>-0.052946</td>\n",
       "      <td>-0.366485</td>\n",
       "      <td>...</td>\n",
       "      <td>0.324277</td>\n",
       "      <td>0.249371</td>\n",
       "      <td>-0.769024</td>\n",
       "      <td>0.535386</td>\n",
       "      <td>2.387986</td>\n",
       "      <td>0.297248</td>\n",
       "      <td>0.463440</td>\n",
       "      <td>-0.288031</td>\n",
       "      <td>0.624660</td>\n",
       "      <td>1</td>\n",
       "    </tr>\n",
       "    <tr>\n",
       "      <th>186771</th>\n",
       "      <td>0.911695</td>\n",
       "      <td>0.246505</td>\n",
       "      <td>-1.003584</td>\n",
       "      <td>-0.353540</td>\n",
       "      <td>-0.728721</td>\n",
       "      <td>0.667333</td>\n",
       "      <td>0.192089</td>\n",
       "      <td>0.525450</td>\n",
       "      <td>-0.095109</td>\n",
       "      <td>1.222411</td>\n",
       "      <td>...</td>\n",
       "      <td>0.026670</td>\n",
       "      <td>0.742294</td>\n",
       "      <td>0.335378</td>\n",
       "      <td>-1.245495</td>\n",
       "      <td>0.781699</td>\n",
       "      <td>0.786010</td>\n",
       "      <td>0.486496</td>\n",
       "      <td>-0.879839</td>\n",
       "      <td>0.975943</td>\n",
       "      <td>1</td>\n",
       "    </tr>\n",
       "    <tr>\n",
       "      <th>116476</th>\n",
       "      <td>0.427432</td>\n",
       "      <td>-0.053851</td>\n",
       "      <td>0.024788</td>\n",
       "      <td>0.960758</td>\n",
       "      <td>-1.040478</td>\n",
       "      <td>1.390386</td>\n",
       "      <td>-0.982466</td>\n",
       "      <td>-1.436877</td>\n",
       "      <td>0.504999</td>\n",
       "      <td>1.095923</td>\n",
       "      <td>...</td>\n",
       "      <td>0.596605</td>\n",
       "      <td>0.504690</td>\n",
       "      <td>-0.938706</td>\n",
       "      <td>1.260060</td>\n",
       "      <td>-1.507441</td>\n",
       "      <td>0.973349</td>\n",
       "      <td>0.672362</td>\n",
       "      <td>0.300977</td>\n",
       "      <td>-0.005781</td>\n",
       "      <td>1</td>\n",
       "    </tr>\n",
       "  </tbody>\n",
       "</table>\n",
       "<p>5 rows × 1001 columns</p>\n",
       "</div>"
      ],
      "text/plain": [
       "        feat_000  feat_001  feat_002  feat_003  feat_004  feat_005  feat_006  \\\n",
       "_id                                                                            \n",
       "105134 -0.772277  0.309950  0.353374  0.586183  0.064600 -1.387633 -1.452810   \n",
       "85589  -0.973686 -0.823021 -0.551026 -0.987692  0.685747 -0.493949 -0.351627   \n",
       "191818 -0.610191  0.325556 -0.209671  0.012314 -0.153349  1.515362  1.156180   \n",
       "186771  0.911695  0.246505 -1.003584 -0.353540 -0.728721  0.667333  0.192089   \n",
       "116476  0.427432 -0.053851  0.024788  0.960758 -1.040478  1.390386 -0.982466   \n",
       "\n",
       "        feat_007  feat_008  feat_009   ...    feat_991  feat_992  feat_993  \\\n",
       "_id                                    ...                                   \n",
       "105134  0.464624  1.469127  0.362242   ...   -0.321001  1.123718  0.291653   \n",
       "85589  -1.963491  1.373265 -0.132725   ...    0.775235 -2.882310 -0.047380   \n",
       "191818 -2.044501 -0.052946 -0.366485   ...    0.324277  0.249371 -0.769024   \n",
       "186771  0.525450 -0.095109  1.222411   ...    0.026670  0.742294  0.335378   \n",
       "116476 -1.436877  0.504999  1.095923   ...    0.596605  0.504690 -0.938706   \n",
       "\n",
       "        feat_994  feat_995  feat_996  feat_997  feat_998  feat_999  target  \n",
       "_id                                                                         \n",
       "105134 -0.133049  0.147423 -1.537578 -0.651449  0.067909  0.282493       0  \n",
       "85589  -0.501525 -0.132687 -1.563878 -0.531468  0.532061 -0.531889       0  \n",
       "191818  0.535386  2.387986  0.297248  0.463440 -0.288031  0.624660       1  \n",
       "186771 -1.245495  0.781699  0.786010  0.486496 -0.879839  0.975943       1  \n",
       "116476  1.260060 -1.507441  0.973349  0.672362  0.300977 -0.005781       1  \n",
       "\n",
       "[5 rows x 1001 columns]"
      ]
     },
     "execution_count": 18,
     "metadata": {},
     "output_type": "execute_result"
    }
   ],
   "source": [
    "results_df.head()"
   ]
  },
  {
   "cell_type": "code",
   "execution_count": 19,
   "metadata": {
    "collapsed": true
   },
   "outputs": [],
   "source": [
    "results_df.to_pickle('data/4000_results_df.p')"
   ]
  },
  {
   "cell_type": "markdown",
   "metadata": {
    "collapsed": true
   },
   "source": [
    "# Load in only 20 informative features"
   ]
  },
  {
   "cell_type": "code",
   "execution_count": 3,
   "metadata": {},
   "outputs": [
    {
     "name": "stdout",
     "output_type": "stream",
     "text": [
      "/home/jovyan/Project_3_madelon\n"
     ]
    }
   ],
   "source": [
    "cd .."
   ]
  },
  {
   "cell_type": "code",
   "execution_count": 4,
   "metadata": {},
   "outputs": [
    {
     "name": "stdout",
     "output_type": "stream",
     "text": [
      "Fetching package metadata ...........\n",
      "Solving package specifications: .\n",
      "\n",
      "# All requested packages already installed.\n",
      "# packages in environment at /opt/conda:\n",
      "#\n",
      "psycopg2                  2.7.3.2                  py36_0    conda-forge\n"
     ]
    }
   ],
   "source": [
    "!conda install psycopg2 --yes\n",
    "%run __init__.py"
   ]
  },
  {
   "cell_type": "code",
   "execution_count": 5,
   "metadata": {
    "collapsed": true
   },
   "outputs": [],
   "source": [
    "features = [257, 269, 308, 315, 336, 341, 395, 504, 526, 639, 681, 701, 724, 736, 769, 808, 829, 867, 920, 956]"
   ]
  },
  {
   "cell_type": "code",
   "execution_count": 53,
   "metadata": {
    "collapsed": true
   },
   "outputs": [],
   "source": [
    "con = pg2.connect(host='34.211.227.227',\n",
    "                  dbname='postgres',\n",
    "                  user='postgres')"
   ]
  },
  {
   "cell_type": "code",
   "execution_count": 54,
   "metadata": {
    "collapsed": true
   },
   "outputs": [],
   "source": [
    "cur = con.cursor(cursor_factory=RealDictCursor)"
   ]
  },
  {
   "cell_type": "code",
   "execution_count": 55,
   "metadata": {
    "collapsed": true
   },
   "outputs": [],
   "source": [
    "cur.execute('SELECT _id, feat_257, feat_269, feat_308, feat_315, feat_336, feat_341, feat_395, feat_504, feat_526, feat_639, feat_681, feat_701, feat_724, feat_736, feat_769, feat_808, feat_829, feat_867, feat_920, feat_956, target FROM madelon ORDER BY random() LIMIT 60000;')"
   ]
  },
  {
   "cell_type": "code",
   "execution_count": 56,
   "metadata": {
    "collapsed": true
   },
   "outputs": [],
   "source": [
    "informative_results = cur.fetchall()"
   ]
  },
  {
   "cell_type": "code",
   "execution_count": 57,
   "metadata": {
    "collapsed": true
   },
   "outputs": [],
   "source": [
    "con.close()"
   ]
  },
  {
   "cell_type": "code",
   "execution_count": 58,
   "metadata": {
    "collapsed": true
   },
   "outputs": [],
   "source": [
    "informative_results_df = pd.DataFrame(informative_results)"
   ]
  },
  {
   "cell_type": "code",
   "execution_count": 59,
   "metadata": {},
   "outputs": [
    {
     "data": {
      "text/html": [
       "<div>\n",
       "<table border=\"1\" class=\"dataframe\">\n",
       "  <thead>\n",
       "    <tr style=\"text-align: right;\">\n",
       "      <th></th>\n",
       "      <th>_id</th>\n",
       "      <th>feat_257</th>\n",
       "      <th>feat_269</th>\n",
       "      <th>feat_308</th>\n",
       "      <th>feat_315</th>\n",
       "      <th>feat_336</th>\n",
       "      <th>feat_341</th>\n",
       "      <th>feat_395</th>\n",
       "      <th>feat_504</th>\n",
       "      <th>feat_526</th>\n",
       "      <th>...</th>\n",
       "      <th>feat_701</th>\n",
       "      <th>feat_724</th>\n",
       "      <th>feat_736</th>\n",
       "      <th>feat_769</th>\n",
       "      <th>feat_808</th>\n",
       "      <th>feat_829</th>\n",
       "      <th>feat_867</th>\n",
       "      <th>feat_920</th>\n",
       "      <th>feat_956</th>\n",
       "      <th>target</th>\n",
       "    </tr>\n",
       "  </thead>\n",
       "  <tbody>\n",
       "    <tr>\n",
       "      <th>59995</th>\n",
       "      <td>181250</td>\n",
       "      <td>0.167181</td>\n",
       "      <td>2.737640</td>\n",
       "      <td>-0.858552</td>\n",
       "      <td>1.360595</td>\n",
       "      <td>2.783512</td>\n",
       "      <td>4.553796</td>\n",
       "      <td>3.102580</td>\n",
       "      <td>2.133985</td>\n",
       "      <td>-1.015436</td>\n",
       "      <td>...</td>\n",
       "      <td>-1.137433</td>\n",
       "      <td>-2.876358</td>\n",
       "      <td>2.544620</td>\n",
       "      <td>-1.745585</td>\n",
       "      <td>-0.381007</td>\n",
       "      <td>3.103803</td>\n",
       "      <td>-0.553039</td>\n",
       "      <td>-1.611411</td>\n",
       "      <td>1.269930</td>\n",
       "      <td>0</td>\n",
       "    </tr>\n",
       "    <tr>\n",
       "      <th>59996</th>\n",
       "      <td>111581</td>\n",
       "      <td>1.238251</td>\n",
       "      <td>0.351034</td>\n",
       "      <td>-0.621294</td>\n",
       "      <td>-1.007088</td>\n",
       "      <td>3.680396</td>\n",
       "      <td>3.536716</td>\n",
       "      <td>1.994591</td>\n",
       "      <td>0.955558</td>\n",
       "      <td>-1.880946</td>\n",
       "      <td>...</td>\n",
       "      <td>1.905426</td>\n",
       "      <td>-0.753260</td>\n",
       "      <td>1.923983</td>\n",
       "      <td>-2.132751</td>\n",
       "      <td>-1.219842</td>\n",
       "      <td>2.003721</td>\n",
       "      <td>-2.381835</td>\n",
       "      <td>0.459698</td>\n",
       "      <td>2.377572</td>\n",
       "      <td>0</td>\n",
       "    </tr>\n",
       "    <tr>\n",
       "      <th>59997</th>\n",
       "      <td>101387</td>\n",
       "      <td>0.418596</td>\n",
       "      <td>-0.612285</td>\n",
       "      <td>-1.239597</td>\n",
       "      <td>-0.307368</td>\n",
       "      <td>0.593040</td>\n",
       "      <td>-1.109471</td>\n",
       "      <td>-0.589780</td>\n",
       "      <td>-1.172791</td>\n",
       "      <td>0.698734</td>\n",
       "      <td>...</td>\n",
       "      <td>0.425614</td>\n",
       "      <td>1.614541</td>\n",
       "      <td>0.513622</td>\n",
       "      <td>0.414364</td>\n",
       "      <td>-0.982648</td>\n",
       "      <td>-0.713417</td>\n",
       "      <td>-0.794181</td>\n",
       "      <td>1.192550</td>\n",
       "      <td>-0.297867</td>\n",
       "      <td>1</td>\n",
       "    </tr>\n",
       "    <tr>\n",
       "      <th>59998</th>\n",
       "      <td>47307</td>\n",
       "      <td>-3.035933</td>\n",
       "      <td>6.049469</td>\n",
       "      <td>-1.009746</td>\n",
       "      <td>5.016094</td>\n",
       "      <td>-2.095102</td>\n",
       "      <td>0.510516</td>\n",
       "      <td>1.907964</td>\n",
       "      <td>-1.514116</td>\n",
       "      <td>2.318408</td>\n",
       "      <td>...</td>\n",
       "      <td>-6.536186</td>\n",
       "      <td>-3.317872</td>\n",
       "      <td>1.700082</td>\n",
       "      <td>-0.413912</td>\n",
       "      <td>0.802979</td>\n",
       "      <td>-1.143181</td>\n",
       "      <td>3.315421</td>\n",
       "      <td>-2.075764</td>\n",
       "      <td>-4.029825</td>\n",
       "      <td>0</td>\n",
       "    </tr>\n",
       "    <tr>\n",
       "      <th>59999</th>\n",
       "      <td>134853</td>\n",
       "      <td>0.280115</td>\n",
       "      <td>0.805242</td>\n",
       "      <td>-1.021296</td>\n",
       "      <td>0.260915</td>\n",
       "      <td>1.857386</td>\n",
       "      <td>1.760900</td>\n",
       "      <td>1.370458</td>\n",
       "      <td>0.427859</td>\n",
       "      <td>-0.448344</td>\n",
       "      <td>...</td>\n",
       "      <td>0.133920</td>\n",
       "      <td>-0.631296</td>\n",
       "      <td>1.550695</td>\n",
       "      <td>-0.878750</td>\n",
       "      <td>-0.681380</td>\n",
       "      <td>0.952741</td>\n",
       "      <td>-0.971736</td>\n",
       "      <td>0.121393</td>\n",
       "      <td>0.639757</td>\n",
       "      <td>0</td>\n",
       "    </tr>\n",
       "  </tbody>\n",
       "</table>\n",
       "<p>5 rows × 22 columns</p>\n",
       "</div>"
      ],
      "text/plain": [
       "          _id  feat_257  feat_269  feat_308  feat_315  feat_336  feat_341  \\\n",
       "59995  181250  0.167181  2.737640 -0.858552  1.360595  2.783512  4.553796   \n",
       "59996  111581  1.238251  0.351034 -0.621294 -1.007088  3.680396  3.536716   \n",
       "59997  101387  0.418596 -0.612285 -1.239597 -0.307368  0.593040 -1.109471   \n",
       "59998   47307 -3.035933  6.049469 -1.009746  5.016094 -2.095102  0.510516   \n",
       "59999  134853  0.280115  0.805242 -1.021296  0.260915  1.857386  1.760900   \n",
       "\n",
       "       feat_395  feat_504  feat_526   ...    feat_701  feat_724  feat_736  \\\n",
       "59995  3.102580  2.133985 -1.015436   ...   -1.137433 -2.876358  2.544620   \n",
       "59996  1.994591  0.955558 -1.880946   ...    1.905426 -0.753260  1.923983   \n",
       "59997 -0.589780 -1.172791  0.698734   ...    0.425614  1.614541  0.513622   \n",
       "59998  1.907964 -1.514116  2.318408   ...   -6.536186 -3.317872  1.700082   \n",
       "59999  1.370458  0.427859 -0.448344   ...    0.133920 -0.631296  1.550695   \n",
       "\n",
       "       feat_769  feat_808  feat_829  feat_867  feat_920  feat_956  target  \n",
       "59995 -1.745585 -0.381007  3.103803 -0.553039 -1.611411  1.269930       0  \n",
       "59996 -2.132751 -1.219842  2.003721 -2.381835  0.459698  2.377572       0  \n",
       "59997  0.414364 -0.982648 -0.713417 -0.794181  1.192550 -0.297867       1  \n",
       "59998 -0.413912  0.802979 -1.143181  3.315421 -2.075764 -4.029825       0  \n",
       "59999 -0.878750 -0.681380  0.952741 -0.971736  0.121393  0.639757       0  \n",
       "\n",
       "[5 rows x 22 columns]"
      ]
     },
     "execution_count": 59,
     "metadata": {},
     "output_type": "execute_result"
    }
   ],
   "source": [
    "informative_results_df.tail()"
   ]
  },
  {
   "cell_type": "code",
   "execution_count": 60,
   "metadata": {
    "collapsed": true
   },
   "outputs": [],
   "source": [
    "informative_results_df.index = informative_results_df['_id']\n",
    "del informative_results_df['_id']"
   ]
  },
  {
   "cell_type": "code",
   "execution_count": 62,
   "metadata": {},
   "outputs": [
    {
     "data": {
      "text/plain": [
       "(60000, 21)"
      ]
     },
     "execution_count": 62,
     "metadata": {},
     "output_type": "execute_result"
    }
   ],
   "source": [
    "informative_results_df.shape"
   ]
  },
  {
   "cell_type": "code",
   "execution_count": 63,
   "metadata": {
    "collapsed": true
   },
   "outputs": [],
   "source": [
    "informative_results_df.to_pickle('data/informative_results_df.p')"
   ]
  }
 ],
 "metadata": {
  "kernelspec": {
   "display_name": "Python 3",
   "language": "python",
   "name": "python3"
  },
  "language_info": {
   "codemirror_mode": {
    "name": "ipython",
    "version": 3
   },
   "file_extension": ".py",
   "mimetype": "text/x-python",
   "name": "python",
   "nbconvert_exporter": "python",
   "pygments_lexer": "ipython3",
   "version": "3.6.2"
  }
 },
 "nbformat": 4,
 "nbformat_minor": 2
}
