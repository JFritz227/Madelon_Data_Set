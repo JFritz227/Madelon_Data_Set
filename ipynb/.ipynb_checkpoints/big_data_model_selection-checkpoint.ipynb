{
 "cells": [
  {
   "cell_type": "markdown",
   "metadata": {},
   "source": [
    "# Model Selection"
   ]
  },
  {
   "cell_type": "code",
   "execution_count": 1,
   "metadata": {},
   "outputs": [
    {
     "name": "stdout",
     "output_type": "stream",
     "text": [
      "/home/jovyan/Project_3_madelon\n"
     ]
    }
   ],
   "source": [
    "cd .."
   ]
  },
  {
   "cell_type": "code",
   "execution_count": 2,
   "metadata": {
    "collapsed": true
   },
   "outputs": [],
   "source": [
    "%run __init__.py"
   ]
  },
  {
   "cell_type": "code",
   "execution_count": 38,
   "metadata": {},
   "outputs": [],
   "source": [
    "twenty_feats_df = pd.read_pickle('data/informative_results_df.p')"
   ]
  },
  {
   "cell_type": "markdown",
   "metadata": {},
   "source": [
    "### Bagging using RandomForestClassifier with 5 features (RFE)"
   ]
  },
  {
   "cell_type": "code",
   "execution_count": 4,
   "metadata": {
    "collapsed": true
   },
   "outputs": [],
   "source": [
    "# creates a RandomForestClassifier with BaggingClassifier pipeline with RFE and StandardScaler instances (5 features)\n",
    "# checks parameters and returns the best parameters for each one listed below. Note: some parameters are commented out \n",
    "# for compiling time reasons. I did run all of these commented out codes at least one time through and the optimal \n",
    "# parameters are used in the function that follows where only 10% of the dataset is used.\n",
    "\n",
    "bag_rf_pipe = Pipeline([\n",
    "    ('scaler',StandardScaler()),\n",
    "    ('clf',BaggingClassifier(RandomForestClassifier(criterion = 'entropy',\n",
    "                                                    max_depth = None,\n",
    "                                                    max_features = 'auto',\n",
    "                                                    n_estimators = 100,\n",
    "                                                    random_state = 42), \n",
    "                             max_samples = .8, \n",
    "                             max_features = 5, \n",
    "                             random_state=42))])"
   ]
  },
  {
   "cell_type": "code",
   "execution_count": 5,
   "metadata": {
    "collapsed": true
   },
   "outputs": [],
   "source": [
    "# uses only the top 5 RFE features from the feature selection notebook to train the model\n",
    "\n",
    "rf_rfe_feats = ['feat_269', 'feat_308', 'feat_395', 'feat_808', 'feat_920']\n",
    "train_rf_rfe = twenty_feats_df[rf_rfe_feats]\n",
    "\n",
    "train_rf_rfe['target'] = twenty_feats_df['target']"
   ]
  },
  {
   "cell_type": "code",
   "execution_count": 6,
   "metadata": {
    "collapsed": true
   },
   "outputs": [],
   "source": [
    "train_rf_rfe_sample0 = train_rf_rfe.sample(n = 21000, random_state = 42)\n",
    "train_rf_rfe_sample1 = train_rf_rfe.sample(n = 21000, random_state = 21)\n",
    "train_rf_rfe_sample2 = train_rf_rfe.sample(n = 21000, random_state = 1)\n",
    "\n",
    "train_rf_rfe_sample0_target = train_rf_rfe_sample0['target']\n",
    "train_rf_rfe_sample1_target = train_rf_rfe_sample1['target']\n",
    "train_rf_rfe_sample2_target = train_rf_rfe_sample2['target']\n",
    "\n",
    "train_rf_rfe_sample0 = train_rf_rfe_sample0.drop('target', 1)\n",
    "train_rf_rfe_sample1 = train_rf_rfe_sample1.drop('target', 1)\n",
    "train_rf_rfe_sample2 = train_rf_rfe_sample2.drop('target', 1)"
   ]
  },
  {
   "cell_type": "code",
   "execution_count": 7,
   "metadata": {
    "collapsed": true
   },
   "outputs": [],
   "source": [
    "test_rf_rfe_sample0 = train_rf_rfe.sample(n = 5000, random_state = 41)\n",
    "test_rf_rfe_sample1 = train_rf_rfe.sample(n = 5000, random_state = 20)\n",
    "test_rf_rfe_sample2 = train_rf_rfe.sample(n = 5000, random_state = 2)\n",
    "\n",
    "test_rf_rfe_sample0_target = test_rf_rfe_sample0['target']\n",
    "test_rf_rfe_sample1_target = test_rf_rfe_sample1['target']\n",
    "test_rf_rfe_sample2_target = test_rf_rfe_sample2['target']\n",
    "\n",
    "test_rf_rfe_sample0 = test_rf_rfe_sample0.drop('target', 1)\n",
    "test_rf_rfe_sample1 = test_rf_rfe_sample1.drop('target', 1)\n",
    "test_rf_rfe_sample2 = test_rf_rfe_sample2.drop('target', 1)"
   ]
  },
  {
   "cell_type": "code",
   "execution_count": 8,
   "metadata": {},
   "outputs": [
    {
     "data": {
      "text/plain": [
       "Pipeline(steps=[('scaler', StandardScaler(copy=True, with_mean=True, with_std=True)), ('clf', BaggingClassifier(base_estimator=RandomForestClassifier(bootstrap=True, class_weight=None, criterion='entropy',\n",
       "            max_depth=None, max_features='auto', max_leaf_nodes=None,\n",
       "            min_impurity_split=1e...n_estimators=10, n_jobs=1, oob_score=False,\n",
       "         random_state=42, verbose=0, warm_start=False))])"
      ]
     },
     "execution_count": 8,
     "metadata": {},
     "output_type": "execute_result"
    }
   ],
   "source": [
    "# fits model using the train_df (top 5 RFE features) and the train_targets\n",
    "\n",
    "bag_rf_pipe.fit(train_rf_rfe_sample0, train_rf_rfe_sample0_target)"
   ]
  },
  {
   "cell_type": "code",
   "execution_count": 9,
   "metadata": {},
   "outputs": [
    {
     "data": {
      "text/plain": [
       "0.9626190476190476"
      ]
     },
     "execution_count": 9,
     "metadata": {},
     "output_type": "execute_result"
    }
   ],
   "source": [
    "# returns train score for entire dataset (2000 observations) using top 5 RFE features and BaggingClassifier\n",
    "\n",
    "bag_rf_pipe.score(train_rf_rfe_sample0,train_rf_rfe_sample0_target)"
   ]
  },
  {
   "cell_type": "code",
   "execution_count": 10,
   "metadata": {},
   "outputs": [
    {
     "data": {
      "text/plain": [
       "0.86613333333333331"
      ]
     },
     "execution_count": 10,
     "metadata": {},
     "output_type": "execute_result"
    }
   ],
   "source": [
    "# returns validation score for entire dataset (600 observations) using top 5 RFE features and BaggingClassifier\n",
    "\n",
    "score0 = bag_rf_pipe.score(test_rf_rfe_sample0, test_rf_rfe_sample0_target)\n",
    "score1 = bag_rf_pipe.score(test_rf_rfe_sample1, test_rf_rfe_sample1_target)\n",
    "score2 = bag_rf_pipe.score(test_rf_rfe_sample2, test_rf_rfe_sample2_target)\n",
    "avg_score = (score0+score1+score2)/3\n",
    "avg_score"
   ]
  },
  {
   "cell_type": "markdown",
   "metadata": {},
   "source": [
    "### KNeighborsClassifier Pipeline with 20 features"
   ]
  },
  {
   "cell_type": "code",
   "execution_count": 32,
   "metadata": {
    "collapsed": true
   },
   "outputs": [],
   "source": [
    "train_knc_sample0 = twenty_feats_df.sample(n = 21000, random_state = 42)\n",
    "train_knc_sample1 = twenty_feats_df.sample(n = 21000, random_state = 21)\n",
    "train_knc_sample2 = twenty_feats_df.sample(n = 21000, random_state = 1)\n",
    "\n",
    "train_knc_sample0_target = train_knc_sample0['target']\n",
    "train_knc_sample1_target = train_knc_sample1['target']\n",
    "train_knc_sample2_target = train_knc_sample2['target']\n",
    "\n",
    "train_knc_sample0 = train_knc_sample0.drop('target', 1)\n",
    "train_knc_sample1 = train_knc_sample1.drop('target', 1)\n",
    "train_knc_sample2 = train_knc_sample2.drop('target', 1)"
   ]
  },
  {
   "cell_type": "code",
   "execution_count": 33,
   "metadata": {
    "collapsed": true
   },
   "outputs": [],
   "source": [
    "test_knc_sample0 = twenty_feats_df.sample(n = 5000, random_state = 41)\n",
    "test_knc_sample1 = twenty_feats_df.sample(n = 5000, random_state = 20)\n",
    "test_knc_sample2 = twenty_feats_df.sample(n = 5000, random_state = 2)\n",
    "\n",
    "test_knc_sample0_target = test_knc_sample0['target']\n",
    "test_knc_sample1_target = test_knc_sample1['target']\n",
    "test_knc_sample2_target = test_knc_sample2['target']\n",
    "\n",
    "test_knc_sample0 = test_knc_sample0.drop('target', 1)\n",
    "test_knc_sample1 = test_knc_sample1.drop('target', 1)\n",
    "test_knc_sample2 = test_knc_sample2.drop('target', 1)"
   ]
  },
  {
   "cell_type": "code",
   "execution_count": 13,
   "metadata": {
    "collapsed": true
   },
   "outputs": [],
   "source": [
    "# creates a KNeighborsClassifier pipeline with SelectKBest and StandardScaler instances (20 features)\n",
    "\n",
    "knc_pipeline = Pipeline([\n",
    "    ('scaler',StandardScaler()),\n",
    "    ('skb', SelectKBest()),\n",
    "    ('knc', KNeighborsClassifier(algorithm = 'auto', n_neighbors = 6, weights = 'distance'))\n",
    "])"
   ]
  },
  {
   "cell_type": "code",
   "execution_count": 14,
   "metadata": {},
   "outputs": [
    {
     "data": {
      "text/plain": [
       "Pipeline(steps=[('scaler', StandardScaler(copy=True, with_mean=True, with_std=True)), ('skb', SelectKBest(k=10, score_func=<function f_classif at 0x7f774a470bf8>)), ('knc', KNeighborsClassifier(algorithm='auto', leaf_size=30, metric='minkowski',\n",
       "           metric_params=None, n_jobs=1, n_neighbors=6, p=2,\n",
       "           weights='distance'))])"
      ]
     },
     "execution_count": 14,
     "metadata": {},
     "output_type": "execute_result"
    }
   ],
   "source": [
    "# fits model using the train_df (20 features) and the train_targets\n",
    "\n",
    "knc_pipeline.fit(train_knc_sample0, train_knc_sample0_target)"
   ]
  },
  {
   "cell_type": "code",
   "execution_count": 15,
   "metadata": {},
   "outputs": [
    {
     "data": {
      "text/plain": [
       "1.0"
      ]
     },
     "execution_count": 15,
     "metadata": {},
     "output_type": "execute_result"
    }
   ],
   "source": [
    "knc_pipeline.score(train_knc_sample0, train_knc_sample0_target)"
   ]
  },
  {
   "cell_type": "code",
   "execution_count": 16,
   "metadata": {},
   "outputs": [
    {
     "data": {
      "text/plain": [
       "0.89119999999999999"
      ]
     },
     "execution_count": 16,
     "metadata": {},
     "output_type": "execute_result"
    }
   ],
   "source": [
    "score0 = knc_pipeline.score(test_knc_sample0, test_knc_sample0_target)\n",
    "score1 = knc_pipeline.score(test_knc_sample1, test_knc_sample1_target)\n",
    "score2 = knc_pipeline.score(test_knc_sample2, test_knc_sample2_target)\n",
    "avg_score = (score0+score1+score2)/3\n",
    "avg_score"
   ]
  },
  {
   "cell_type": "markdown",
   "metadata": {},
   "source": [
    "### Bagging with KNeighborsClassifier Pipeline with 20 features"
   ]
  },
  {
   "cell_type": "code",
   "execution_count": 31,
   "metadata": {
    "collapsed": true
   },
   "outputs": [],
   "source": [
    "# creates a RandomForestClassifier with BaggingClassifier pipeline with RFE and StandardScaler instances (5 features)\n",
    "# checks parameters and returns the best parameters for each one listed below. Note: some parameters are commented out \n",
    "# for compiling time reasons. I did run all of these commented out codes at least one time through and the optimal \n",
    "# parameters are used in the function that follows where only 10% of the dataset is used.\n",
    "\n",
    "bag_knc_pipe = Pipeline([\n",
    "    ('scaler',StandardScaler()),\n",
    "    ('clf',BaggingClassifier(KNeighborsClassifier(algorithm = 'auto',\n",
    "                                                  n_neighbors = 6,\n",
    "                                                  weights = 'distance'), \n",
    "                             max_samples = .8, \n",
    "                             max_features = 5, \n",
    "                             random_state=42))])"
   ]
  },
  {
   "cell_type": "code",
   "execution_count": 34,
   "metadata": {},
   "outputs": [
    {
     "data": {
      "text/plain": [
       "Pipeline(steps=[('scaler', StandardScaler(copy=True, with_mean=True, with_std=True)), ('clf', BaggingClassifier(base_estimator=KNeighborsClassifier(algorithm='auto', leaf_size=30, metric='minkowski',\n",
       "           metric_params=None, n_jobs=1, n_neighbors=6, p=2,\n",
       "           weights='distance'),\n",
       "         bootstrap=True, bootstrap_features=False, max_features=5,\n",
       "         max_samples=0.8, n_estimators=10, n_jobs=1, oob_score=False,\n",
       "         random_state=42, verbose=0, warm_start=False))])"
      ]
     },
     "execution_count": 34,
     "metadata": {},
     "output_type": "execute_result"
    }
   ],
   "source": [
    "bag_knc_pipe.fit(train_knc_sample0, train_knc_sample0_target)"
   ]
  },
  {
   "cell_type": "code",
   "execution_count": 36,
   "metadata": {},
   "outputs": [
    {
     "data": {
      "text/plain": [
       "0.98890476190476195"
      ]
     },
     "execution_count": 36,
     "metadata": {},
     "output_type": "execute_result"
    }
   ],
   "source": [
    "bag_knc_pipe.score(train_knc_sample0, train_knc_sample0_target)"
   ]
  },
  {
   "cell_type": "code",
   "execution_count": 37,
   "metadata": {},
   "outputs": [
    {
     "data": {
      "text/plain": [
       "0.8736666666666667"
      ]
     },
     "execution_count": 37,
     "metadata": {},
     "output_type": "execute_result"
    }
   ],
   "source": [
    "score0 = bag_knc_pipe.score(test_knc_sample0, test_knc_sample0_target)\n",
    "score1 = bag_knc_pipe.score(test_knc_sample1, test_knc_sample1_target)\n",
    "score2 = bag_knc_pipe.score(test_knc_sample2, test_knc_sample2_target)\n",
    "avg_score = (score0+score1+score2)/3\n",
    "avg_score"
   ]
  },
  {
   "cell_type": "markdown",
   "metadata": {
    "collapsed": true
   },
   "source": [
    "### RandomForestClassifier with 13 features (found in Union of all feature selection models)"
   ]
  },
  {
   "cell_type": "code",
   "execution_count": 17,
   "metadata": {
    "collapsed": true
   },
   "outputs": [],
   "source": [
    "rf_pipe = Pipeline([\n",
    "    ('scaler',StandardScaler()),\n",
    "    ('clf',RandomForestClassifier(max_features = 'auto', criterion = 'entropy',\n",
    "                                max_depth = None, random_state=42, n_estimators = 350))\n",
    "])"
   ]
  },
  {
   "cell_type": "code",
   "execution_count": 18,
   "metadata": {
    "collapsed": true
   },
   "outputs": [],
   "source": [
    "informative_features = ['feat_257', 'feat_269', 'feat_308', 'feat_341', 'feat_504',\n",
    "       'feat_681', 'feat_701', 'feat_724', 'feat_736', 'feat_769',\n",
    "       'feat_808', 'feat_829', 'feat_920']\n",
    "thirteen_feats = twenty_feats_df[informative_features]\n",
    "\n",
    "thirteen_feats['target'] = twenty_feats_df['target']"
   ]
  },
  {
   "cell_type": "code",
   "execution_count": 19,
   "metadata": {
    "collapsed": true
   },
   "outputs": [],
   "source": [
    "thirteen_feats_sample0 = thirteen_feats.sample(n = 5000, random_state = 42)\n",
    "thirteen_feats_sample1 = thirteen_feats.sample(n = 5000, random_state = 21)\n",
    "thirteen_feats_sample2 = thirteen_feats.sample(n = 5000, random_state = 1)\n",
    "                                             \n",
    "thirteen_feats_sample0_target = thirteen_feats_sample0['target']\n",
    "thirteen_feats_sample1_target = thirteen_feats_sample1['target']\n",
    "thirteen_feats_sample2_target = thirteen_feats_sample2['target']\n",
    "                                             \n",
    "thirteen_feats_sample0 = thirteen_feats_sample0.drop('target', 1)\n",
    "thirteen_feats_sample1 = thirteen_feats_sample1.drop('target', 1)\n",
    "thirteen_feats_sample2 = thirteen_feats_sample2.drop('target', 1)"
   ]
  },
  {
   "cell_type": "code",
   "execution_count": 20,
   "metadata": {
    "collapsed": true
   },
   "outputs": [],
   "source": [
    "test_thirteen_feats_sample0 = thirteen_feats.sample(n = 1000, random_state = 41)\n",
    "test_thirteen_feats_sample1 = thirteen_feats.sample(n = 1000, random_state = 20)\n",
    "test_thirteen_feats_sample2 = thirteen_feats.sample(n = 1000, random_state = 2)\n",
    "\n",
    "test_thirteen_feats_sample0_target = test_thirteen_feats_sample0['target']\n",
    "test_thirteen_feats_sample1_target = test_thirteen_feats_sample1['target']\n",
    "test_thirteen_feats_sample2_target = test_thirteen_feats_sample2['target']\n",
    "\n",
    "test_thirteen_feats_sample0 = test_thirteen_feats_sample0.drop('target', 1)\n",
    "test_thirteen_feats_sample1 = test_thirteen_feats_sample1.drop('target', 1)\n",
    "test_thirteen_feats_sample2 = test_thirteen_feats_sample2.drop('target', 1)"
   ]
  },
  {
   "cell_type": "code",
   "execution_count": 21,
   "metadata": {},
   "outputs": [
    {
     "data": {
      "text/plain": [
       "Pipeline(steps=[('scaler', StandardScaler(copy=True, with_mean=True, with_std=True)), ('clf', RandomForestClassifier(bootstrap=True, class_weight=None, criterion='entropy',\n",
       "            max_depth=None, max_features='auto', max_leaf_nodes=None,\n",
       "            min_impurity_split=1e-07, min_samples_leaf=1,\n",
       "            min_samples_split=2, min_weight_fraction_leaf=0.0,\n",
       "            n_estimators=350, n_jobs=1, oob_score=False, random_state=42,\n",
       "            verbose=0, warm_start=False))])"
      ]
     },
     "execution_count": 21,
     "metadata": {},
     "output_type": "execute_result"
    }
   ],
   "source": [
    "rf_pipe.fit(thirteen_feats_sample0, thirteen_feats_sample0_target)"
   ]
  },
  {
   "cell_type": "code",
   "execution_count": 22,
   "metadata": {},
   "outputs": [
    {
     "data": {
      "text/plain": [
       "1.0"
      ]
     },
     "execution_count": 22,
     "metadata": {},
     "output_type": "execute_result"
    }
   ],
   "source": [
    "rf_pipe.score(thirteen_feats_sample0, thirteen_feats_sample0_target)"
   ]
  },
  {
   "cell_type": "code",
   "execution_count": 23,
   "metadata": {},
   "outputs": [
    {
     "data": {
      "text/plain": [
       "0.82033333333333325"
      ]
     },
     "execution_count": 23,
     "metadata": {},
     "output_type": "execute_result"
    }
   ],
   "source": [
    "score0 = rf_pipe.score(test_thirteen_feats_sample0, test_thirteen_feats_sample0_target)\n",
    "score1 = rf_pipe.score(test_thirteen_feats_sample1, test_thirteen_feats_sample1_target)\n",
    "score2 = rf_pipe.score(test_thirteen_feats_sample2, test_thirteen_feats_sample2_target)\n",
    "avg_score = (score0+score1+score2)/3\n",
    "avg_score"
   ]
  },
  {
   "cell_type": "markdown",
   "metadata": {},
   "source": [
    "### RandomForestClassifier using 5 features (RFE)"
   ]
  },
  {
   "cell_type": "code",
   "execution_count": 24,
   "metadata": {},
   "outputs": [],
   "source": [
    "rf_pipe = Pipeline([\n",
    "    ('scaler',StandardScaler()),\n",
    "    ('clf',RandomForestClassifier(criterion = 'entropy',\n",
    "                                  max_depth = None,\n",
    "                                  max_features = 'auto',\n",
    "                                  n_estimators = 100,\n",
    "                                  random_state = 42))\n",
    "])"
   ]
  },
  {
   "cell_type": "code",
   "execution_count": 25,
   "metadata": {},
   "outputs": [],
   "source": [
    "rf_rfe_feats = ['feat_269', 'feat_308', 'feat_395', 'feat_808', 'feat_920']\n",
    "rf_rfe_feats = twenty_feats_df[rf_rfe_feats]\n",
    "\n",
    "rf_rfe_feats['target'] = twenty_feats_df['target']"
   ]
  },
  {
   "cell_type": "code",
   "execution_count": 26,
   "metadata": {
    "collapsed": true
   },
   "outputs": [],
   "source": [
    "rf_rfe_feats_sample0 = rf_rfe_feats.sample(n = 5000, random_state = 42)\n",
    "rf_rfe_feats_sample1 = rf_rfe_feats.sample(n = 5000, random_state = 21)\n",
    "rf_rfe_feats_sample2 = rf_rfe_feats.sample(n = 5000, random_state = 1)\n",
    "                                             \n",
    "rf_rfe_feats_sample0_target = rf_rfe_feats_sample0['target']\n",
    "rf_rfe_feats_sample1_target = rf_rfe_feats_sample1['target']\n",
    "rf_rfe_feats_sample2_target = rf_rfe_feats_sample2['target']\n",
    "                                             \n",
    "rf_rfe_feats_sample0 = rf_rfe_feats_sample0.drop('target', 1)\n",
    "rf_rfe_feats_sample1 = rf_rfe_feats_sample1.drop('target', 1)\n",
    "rf_rfe_feats_sample2 = rf_rfe_feats_sample2.drop('target', 1)"
   ]
  },
  {
   "cell_type": "code",
   "execution_count": 27,
   "metadata": {
    "collapsed": true
   },
   "outputs": [],
   "source": [
    "test_rf_rfe_feats_sample0 = rf_rfe_feats.sample(n = 1000, random_state = 41)\n",
    "test_rf_rfe_feats_sample1 = rf_rfe_feats.sample(n = 1000, random_state = 20)\n",
    "test_rf_rfe_feats_sample2 = rf_rfe_feats.sample(n = 1000, random_state = 2)\n",
    "\n",
    "test_rf_rfe_feats_sample0_target = test_rf_rfe_feats_sample0['target']\n",
    "test_rf_rfe_feats_sample1_target = test_rf_rfe_feats_sample1['target']\n",
    "test_rf_rfe_feats_sample2_target = test_rf_rfe_feats_sample2['target']\n",
    "\n",
    "test_rf_rfe_feats_sample0 = test_rf_rfe_feats_sample0.drop('target', 1)\n",
    "test_rf_rfe_feats_sample1 = test_rf_rfe_feats_sample1.drop('target', 1)\n",
    "test_rf_rfe_feats_sample2 = test_rf_rfe_feats_sample2.drop('target', 1)"
   ]
  },
  {
   "cell_type": "code",
   "execution_count": 28,
   "metadata": {},
   "outputs": [
    {
     "data": {
      "text/plain": [
       "Pipeline(steps=[('scaler', StandardScaler(copy=True, with_mean=True, with_std=True)), ('clf', RandomForestClassifier(bootstrap=True, class_weight=None, criterion='entropy',\n",
       "            max_depth=None, max_features='auto', max_leaf_nodes=None,\n",
       "            min_impurity_split=1e-07, min_samples_leaf=1,\n",
       "            min_samples_split=2, min_weight_fraction_leaf=0.0,\n",
       "            n_estimators=100, n_jobs=1, oob_score=False, random_state=42,\n",
       "            verbose=0, warm_start=False))])"
      ]
     },
     "execution_count": 28,
     "metadata": {},
     "output_type": "execute_result"
    }
   ],
   "source": [
    "rf_pipe.fit(rf_rfe_feats_sample0, rf_rfe_feats_sample0_target)"
   ]
  },
  {
   "cell_type": "code",
   "execution_count": 29,
   "metadata": {},
   "outputs": [
    {
     "data": {
      "text/plain": [
       "1.0"
      ]
     },
     "execution_count": 29,
     "metadata": {},
     "output_type": "execute_result"
    }
   ],
   "source": [
    "rf_pipe.score(rf_rfe_feats_sample0, rf_rfe_feats_sample0_target)"
   ]
  },
  {
   "cell_type": "code",
   "execution_count": 30,
   "metadata": {},
   "outputs": [
    {
     "data": {
      "text/plain": [
       "0.80166666666666675"
      ]
     },
     "execution_count": 30,
     "metadata": {},
     "output_type": "execute_result"
    }
   ],
   "source": [
    "score0 = rf_pipe.score(test_rf_rfe_feats_sample0, test_rf_rfe_feats_sample0_target)\n",
    "score1 = rf_pipe.score(test_rf_rfe_feats_sample1, test_rf_rfe_feats_sample1_target)\n",
    "score2 = rf_pipe.score(test_rf_rfe_feats_sample2, test_rf_rfe_feats_sample2_target)\n",
    "avg_score = (score0+score1+score2)/3\n",
    "avg_score"
   ]
  }
 ],
 "metadata": {
  "kernelspec": {
   "display_name": "Python 3",
   "language": "python",
   "name": "python3"
  },
  "language_info": {
   "codemirror_mode": {
    "name": "ipython",
    "version": 3
   },
   "file_extension": ".py",
   "mimetype": "text/x-python",
   "name": "python",
   "nbconvert_exporter": "python",
   "pygments_lexer": "ipython3",
   "version": "3.6.2"
  }
 },
 "nbformat": 4,
 "nbformat_minor": 2
}
