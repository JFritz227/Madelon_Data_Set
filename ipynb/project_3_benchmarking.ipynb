{
 "cells": [
  {
   "cell_type": "code",
   "execution_count": 2,
   "metadata": {},
   "outputs": [
    {
     "name": "stdout",
     "output_type": "stream",
     "text": [
      "/home/jovyan/Project_3_madelon\n"
     ]
    }
   ],
   "source": [
    "cd .."
   ]
  },
  {
   "cell_type": "code",
   "execution_count": 3,
   "metadata": {
    "collapsed": true
   },
   "outputs": [],
   "source": [
    "%run __init__.py"
   ]
  },
  {
   "cell_type": "code",
   "execution_count": 4,
   "metadata": {
    "collapsed": true
   },
   "outputs": [],
   "source": [
    "informative_features = [28, 48, 64, 105, 128, 153, 241, 281, 318, 336,\n",
    "                        338, 378, 433, 442, 451, 453, 455, 472, 475, 493]"
   ]
  },
  {
   "cell_type": "code",
   "execution_count": 5,
   "metadata": {
    "collapsed": true
   },
   "outputs": [],
   "source": [
    "madelon_train_full = pd.read_csv('data/madelon_train.txt', sep = ' ', header = None)\n",
    "train_targets = pd.read_csv('data/madelon_train_targets.txt', sep = ' ', header = None)\n",
    "train_df = madelon_train_full[informative_features]\n",
    "train_df['targets'] = train_targets"
   ]
  },
  {
   "cell_type": "code",
   "execution_count": 6,
   "metadata": {
    "collapsed": true
   },
   "outputs": [],
   "source": [
    "madelon_val_full = pd.read_csv('data/madelon_valid.txt', sep = ' ', header = None)\n",
    "val_targets = pd.read_csv('data/madelon_valid_targets.txt', sep = ' ', header = None)\n",
    "val_df = madelon_val_full[informative_features]\n",
    "val_df['targets'] = val_targets"
   ]
  },
  {
   "cell_type": "markdown",
   "metadata": {},
   "source": [
    "# Benchmarking Raw Data"
   ]
  },
  {
   "cell_type": "code",
   "execution_count": 7,
   "metadata": {},
   "outputs": [],
   "source": [
    "scores_df = pd.DataFrame()\n",
    "\n",
    "knc = add_train_test_score_df(train_df, val_df, KNeighborsClassifier())\n",
    "dtc = add_train_test_score_df(train_df, val_df, DecisionTreeClassifier(random_state = 42))\n",
    "rfc = add_train_test_score_df(train_df, val_df, RandomForestClassifier(random_state = 42))\n",
    "lr = add_train_test_score_df(train_df, val_df, LogisticRegression())\n",
    "\n",
    "\n",
    "scores_df['KNeighborsClassifier'] = knc\n",
    "scores_df['DecisionTreeClassifier'] = dtc\n",
    "scores_df['RandomForestClassifier'] = rfc\n",
    "scores_df['LogisticRegression'] = lr\n",
    "\n",
    "scores_df = scores_df.rename(index = {0:'Train Score', 1:'Test Score'})\n",
    "scores_df.to_csv('files/raw_benchmark_scores')"
   ]
  },
  {
   "cell_type": "markdown",
   "metadata": {},
   "source": [
    "# Benchmarking Scaled Data"
   ]
  },
  {
   "cell_type": "code",
   "execution_count": 21,
   "metadata": {
    "collapsed": true
   },
   "outputs": [],
   "source": [
    "scaled_scores_df = pd.DataFrame()\n",
    "\n",
    "scaled_knc = add_train_test_score_df(train_df, val_df, KNeighborsClassifier(), scaled=True)\n",
    "scaled_dtc = add_train_test_score_df(train_df, val_df, DecisionTreeClassifier(random_state = 42), scaled=True)\n",
    "scaled_rfc = add_train_test_score_df(train_df, val_df, RandomForestClassifier(random_state = 42), scaled=True)\n",
    "scaled_lr = add_train_test_score_df(train_df, val_df, LogisticRegression(), scaled=True)\n",
    "\n",
    "\n",
    "scaled_scores_df['KNeighborsClassifier'] = scaled_knc\n",
    "scaled_scores_df['DecisionTreeClassifier'] = scaled_dtc\n",
    "scaled_scores_df['RandomForestClassifier'] = scaled_rfc\n",
    "scaled_scores_df['LogisticRegression'] = scaled_lr\n",
    "\n",
    "scaled_scores_df = scaled_scores_df.rename(index = {0:'Scaled Train Score', 1:'Scaled Test Score'})\n",
    "scaled_scores_df.to_csv('scaled_benchmark_scores')"
   ]
  },
  {
   "cell_type": "code",
   "execution_count": null,
   "metadata": {
    "collapsed": true
   },
   "outputs": [],
   "source": []
  }
 ],
 "metadata": {
  "kernelspec": {
   "display_name": "Python 3",
   "language": "python",
   "name": "python3"
  },
  "language_info": {
   "codemirror_mode": {
    "name": "ipython",
    "version": 3
   },
   "file_extension": ".py",
   "mimetype": "text/x-python",
   "name": "python",
   "nbconvert_exporter": "python",
   "pygments_lexer": "ipython3",
   "version": "3.6.2"
  }
 },
 "nbformat": 4,
 "nbformat_minor": 2
}
