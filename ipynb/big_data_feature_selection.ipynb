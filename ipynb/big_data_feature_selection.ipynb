{
 "cells": [
  {
   "cell_type": "markdown",
   "metadata": {},
   "source": [
    "# Feature Selection"
   ]
  },
  {
   "cell_type": "code",
   "execution_count": 1,
   "metadata": {},
   "outputs": [
    {
     "name": "stdout",
     "output_type": "stream",
     "text": [
      "/home/jovyan/Project_3_madelon\n"
     ]
    }
   ],
   "source": [
    "cd .."
   ]
  },
  {
   "cell_type": "code",
   "execution_count": 2,
   "metadata": {
    "collapsed": true
   },
   "outputs": [],
   "source": [
    "%run __init__.py"
   ]
  },
  {
   "cell_type": "code",
   "execution_count": 3,
   "metadata": {
    "collapsed": true
   },
   "outputs": [],
   "source": [
    "result_df = pd.read_pickle('data/4000_results_df.p')"
   ]
  },
  {
   "cell_type": "code",
   "execution_count": 4,
   "metadata": {
    "collapsed": true
   },
   "outputs": [],
   "source": [
    "result_df = result_df.drop('target', 1)"
   ]
  },
  {
   "cell_type": "markdown",
   "metadata": {},
   "source": [
    "### Find top features"
   ]
  },
  {
   "cell_type": "code",
   "execution_count": 5,
   "metadata": {
    "collapsed": true
   },
   "outputs": [],
   "source": [
    "# creates three samples of 10% of the dataset (only 4000 observations in dataset so each has 400 observations)\n",
    "\n",
    "sample0_all = result_df.sample(frac = 0.1, random_state = 42)\n",
    "sample1_all = result_df.sample(frac = 0.1, random_state = 1)\n",
    "sample2_all = result_df.sample(frac = 0.1, random_state = 27)"
   ]
  },
  {
   "cell_type": "code",
   "execution_count": 6,
   "metadata": {
    "collapsed": true
   },
   "outputs": [],
   "source": [
    "# calculates the R^2 value for each features based on the other features' ability to predict that feature\n",
    "\n",
    "sample0_r2_df = create_r2_dataframe(sample0_all)\n",
    "sample1_r2_df = create_r2_dataframe(sample1_all)\n",
    "sample2_r2_df = create_r2_dataframe(sample2_all)"
   ]
  },
  {
   "cell_type": "code",
   "execution_count": 7,
   "metadata": {
    "collapsed": true
   },
   "outputs": [],
   "source": [
    "sample0_r2_df.columns = ['sample0_DecisionTree', 'sample0_KNeighbors']\n",
    "sample1_r2_df.columns = ['sample1_DecisionTree', 'sample1_KNeighbors']\n",
    "sample2_r2_df.columns = ['sample2_DecisionTree', 'sample2_KNeighbors']"
   ]
  },
  {
   "cell_type": "code",
   "execution_count": 8,
   "metadata": {},
   "outputs": [
    {
     "data": {
      "text/html": [
       "<div>\n",
       "<table border=\"1\" class=\"dataframe\">\n",
       "  <thead>\n",
       "    <tr style=\"text-align: right;\">\n",
       "      <th></th>\n",
       "      <th>sample0_DecisionTree</th>\n",
       "      <th>sample0_KNeighbors</th>\n",
       "      <th>sample1_DecisionTree</th>\n",
       "      <th>sample1_KNeighbors</th>\n",
       "      <th>sample2_DecisionTree</th>\n",
       "      <th>sample2_KNeighbors</th>\n",
       "    </tr>\n",
       "  </thead>\n",
       "  <tbody>\n",
       "    <tr>\n",
       "      <th>639</th>\n",
       "      <td>0.927408</td>\n",
       "      <td>0.765546</td>\n",
       "      <td>0.928160</td>\n",
       "      <td>0.736336</td>\n",
       "      <td>0.865986</td>\n",
       "      <td>0.654629</td>\n",
       "    </tr>\n",
       "    <tr>\n",
       "      <th>956</th>\n",
       "      <td>0.886172</td>\n",
       "      <td>0.762094</td>\n",
       "      <td>0.901443</td>\n",
       "      <td>0.721654</td>\n",
       "      <td>0.873643</td>\n",
       "      <td>0.648066</td>\n",
       "    </tr>\n",
       "    <tr>\n",
       "      <th>867</th>\n",
       "      <td>0.819643</td>\n",
       "      <td>0.616547</td>\n",
       "      <td>0.772777</td>\n",
       "      <td>0.636942</td>\n",
       "      <td>0.695628</td>\n",
       "      <td>0.585044</td>\n",
       "    </tr>\n",
       "    <tr>\n",
       "      <th>336</th>\n",
       "      <td>0.781835</td>\n",
       "      <td>0.631073</td>\n",
       "      <td>0.752961</td>\n",
       "      <td>0.696783</td>\n",
       "      <td>0.672042</td>\n",
       "      <td>0.522090</td>\n",
       "    </tr>\n",
       "    <tr>\n",
       "      <th>920</th>\n",
       "      <td>0.749918</td>\n",
       "      <td>0.493926</td>\n",
       "      <td>0.694970</td>\n",
       "      <td>0.419661</td>\n",
       "      <td>0.662646</td>\n",
       "      <td>0.527689</td>\n",
       "    </tr>\n",
       "    <tr>\n",
       "      <th>701</th>\n",
       "      <td>0.745191</td>\n",
       "      <td>0.516612</td>\n",
       "      <td>0.780464</td>\n",
       "      <td>0.576887</td>\n",
       "      <td>0.670117</td>\n",
       "      <td>0.547489</td>\n",
       "    </tr>\n",
       "    <tr>\n",
       "      <th>269</th>\n",
       "      <td>0.739760</td>\n",
       "      <td>0.485213</td>\n",
       "      <td>0.708770</td>\n",
       "      <td>0.662076</td>\n",
       "      <td>0.837314</td>\n",
       "      <td>0.608524</td>\n",
       "    </tr>\n",
       "    <tr>\n",
       "      <th>504</th>\n",
       "      <td>0.723879</td>\n",
       "      <td>0.542038</td>\n",
       "      <td>0.482788</td>\n",
       "      <td>0.452808</td>\n",
       "      <td>0.437115</td>\n",
       "      <td>0.356188</td>\n",
       "    </tr>\n",
       "    <tr>\n",
       "      <th>341</th>\n",
       "      <td>0.711988</td>\n",
       "      <td>0.670392</td>\n",
       "      <td>0.778390</td>\n",
       "      <td>0.711253</td>\n",
       "      <td>0.747792</td>\n",
       "      <td>0.703786</td>\n",
       "    </tr>\n",
       "    <tr>\n",
       "      <th>395</th>\n",
       "      <td>0.704585</td>\n",
       "      <td>0.552216</td>\n",
       "      <td>0.727241</td>\n",
       "      <td>0.599737</td>\n",
       "      <td>0.746817</td>\n",
       "      <td>0.624806</td>\n",
       "    </tr>\n",
       "    <tr>\n",
       "      <th>724</th>\n",
       "      <td>0.693780</td>\n",
       "      <td>0.561768</td>\n",
       "      <td>0.694918</td>\n",
       "      <td>0.597765</td>\n",
       "      <td>0.722448</td>\n",
       "      <td>0.617379</td>\n",
       "    </tr>\n",
       "    <tr>\n",
       "      <th>315</th>\n",
       "      <td>0.689037</td>\n",
       "      <td>0.600497</td>\n",
       "      <td>0.762291</td>\n",
       "      <td>0.653811</td>\n",
       "      <td>0.806019</td>\n",
       "      <td>0.637660</td>\n",
       "    </tr>\n",
       "    <tr>\n",
       "      <th>829</th>\n",
       "      <td>0.662500</td>\n",
       "      <td>0.595766</td>\n",
       "      <td>0.549854</td>\n",
       "      <td>0.484093</td>\n",
       "      <td>0.553949</td>\n",
       "      <td>0.418499</td>\n",
       "    </tr>\n",
       "    <tr>\n",
       "      <th>736</th>\n",
       "      <td>0.658151</td>\n",
       "      <td>0.469071</td>\n",
       "      <td>0.588398</td>\n",
       "      <td>0.541504</td>\n",
       "      <td>0.562101</td>\n",
       "      <td>0.386677</td>\n",
       "    </tr>\n",
       "    <tr>\n",
       "      <th>257</th>\n",
       "      <td>0.606124</td>\n",
       "      <td>0.604212</td>\n",
       "      <td>0.686228</td>\n",
       "      <td>0.606748</td>\n",
       "      <td>0.705658</td>\n",
       "      <td>0.578984</td>\n",
       "    </tr>\n",
       "    <tr>\n",
       "      <th>769</th>\n",
       "      <td>0.535470</td>\n",
       "      <td>0.500617</td>\n",
       "      <td>0.638929</td>\n",
       "      <td>0.528797</td>\n",
       "      <td>0.583860</td>\n",
       "      <td>0.410272</td>\n",
       "    </tr>\n",
       "    <tr>\n",
       "      <th>526</th>\n",
       "      <td>0.473975</td>\n",
       "      <td>0.565200</td>\n",
       "      <td>0.499838</td>\n",
       "      <td>0.508901</td>\n",
       "      <td>0.419409</td>\n",
       "      <td>0.505563</td>\n",
       "    </tr>\n",
       "    <tr>\n",
       "      <th>808</th>\n",
       "      <td>0.442773</td>\n",
       "      <td>0.472452</td>\n",
       "      <td>0.610752</td>\n",
       "      <td>0.500485</td>\n",
       "      <td>0.658955</td>\n",
       "      <td>0.414743</td>\n",
       "    </tr>\n",
       "    <tr>\n",
       "      <th>681</th>\n",
       "      <td>0.422852</td>\n",
       "      <td>0.329518</td>\n",
       "      <td>0.596078</td>\n",
       "      <td>0.318474</td>\n",
       "      <td>0.567058</td>\n",
       "      <td>0.141681</td>\n",
       "    </tr>\n",
       "    <tr>\n",
       "      <th>308</th>\n",
       "      <td>0.377005</td>\n",
       "      <td>0.282912</td>\n",
       "      <td>0.569598</td>\n",
       "      <td>0.304817</td>\n",
       "      <td>0.509340</td>\n",
       "      <td>0.244508</td>\n",
       "    </tr>\n",
       "    <tr>\n",
       "      <th>463</th>\n",
       "      <td>-0.304912</td>\n",
       "      <td>-0.072661</td>\n",
       "      <td>-1.352521</td>\n",
       "      <td>-0.192762</td>\n",
       "      <td>-1.111292</td>\n",
       "      <td>-0.230748</td>\n",
       "    </tr>\n",
       "    <tr>\n",
       "      <th>502</th>\n",
       "      <td>-0.356546</td>\n",
       "      <td>-0.272216</td>\n",
       "      <td>-1.585285</td>\n",
       "      <td>-0.225520</td>\n",
       "      <td>-0.763924</td>\n",
       "      <td>-0.192816</td>\n",
       "    </tr>\n",
       "    <tr>\n",
       "      <th>337</th>\n",
       "      <td>-0.385433</td>\n",
       "      <td>-0.133136</td>\n",
       "      <td>-1.179454</td>\n",
       "      <td>-0.352835</td>\n",
       "      <td>-1.433839</td>\n",
       "      <td>-0.158929</td>\n",
       "    </tr>\n",
       "    <tr>\n",
       "      <th>542</th>\n",
       "      <td>-0.413927</td>\n",
       "      <td>-0.350349</td>\n",
       "      <td>-1.037661</td>\n",
       "      <td>-0.164488</td>\n",
       "      <td>-1.564160</td>\n",
       "      <td>-0.333289</td>\n",
       "    </tr>\n",
       "    <tr>\n",
       "      <th>753</th>\n",
       "      <td>-0.443608</td>\n",
       "      <td>-0.101489</td>\n",
       "      <td>-0.892912</td>\n",
       "      <td>-0.114874</td>\n",
       "      <td>-1.061632</td>\n",
       "      <td>-0.220567</td>\n",
       "    </tr>\n",
       "    <tr>\n",
       "      <th>424</th>\n",
       "      <td>-0.444834</td>\n",
       "      <td>-0.192385</td>\n",
       "      <td>-1.033574</td>\n",
       "      <td>-0.242876</td>\n",
       "      <td>-1.755959</td>\n",
       "      <td>-0.173423</td>\n",
       "    </tr>\n",
       "    <tr>\n",
       "      <th>652</th>\n",
       "      <td>-0.465938</td>\n",
       "      <td>-0.169528</td>\n",
       "      <td>-1.168917</td>\n",
       "      <td>-0.160170</td>\n",
       "      <td>-1.356431</td>\n",
       "      <td>-0.187690</td>\n",
       "    </tr>\n",
       "    <tr>\n",
       "      <th>446</th>\n",
       "      <td>-0.475720</td>\n",
       "      <td>-0.182980</td>\n",
       "      <td>-1.219030</td>\n",
       "      <td>-0.211661</td>\n",
       "      <td>-0.981326</td>\n",
       "      <td>-0.306534</td>\n",
       "    </tr>\n",
       "    <tr>\n",
       "      <th>405</th>\n",
       "      <td>-0.478261</td>\n",
       "      <td>-0.414269</td>\n",
       "      <td>-0.999898</td>\n",
       "      <td>-0.245251</td>\n",
       "      <td>-1.049668</td>\n",
       "      <td>-0.127560</td>\n",
       "    </tr>\n",
       "    <tr>\n",
       "      <th>885</th>\n",
       "      <td>-0.479273</td>\n",
       "      <td>-0.166034</td>\n",
       "      <td>-1.232641</td>\n",
       "      <td>-0.355185</td>\n",
       "      <td>-1.152809</td>\n",
       "      <td>-0.217927</td>\n",
       "    </tr>\n",
       "    <tr>\n",
       "      <th>...</th>\n",
       "      <td>...</td>\n",
       "      <td>...</td>\n",
       "      <td>...</td>\n",
       "      <td>...</td>\n",
       "      <td>...</td>\n",
       "      <td>...</td>\n",
       "    </tr>\n",
       "    <tr>\n",
       "      <th>646</th>\n",
       "      <td>-1.794899</td>\n",
       "      <td>-0.339386</td>\n",
       "      <td>-1.604285</td>\n",
       "      <td>-0.312606</td>\n",
       "      <td>-0.939552</td>\n",
       "      <td>-0.285845</td>\n",
       "    </tr>\n",
       "    <tr>\n",
       "      <th>780</th>\n",
       "      <td>-1.796143</td>\n",
       "      <td>-0.228508</td>\n",
       "      <td>-0.998439</td>\n",
       "      <td>-0.243331</td>\n",
       "      <td>-0.795807</td>\n",
       "      <td>-0.073660</td>\n",
       "    </tr>\n",
       "    <tr>\n",
       "      <th>451</th>\n",
       "      <td>-1.801282</td>\n",
       "      <td>-0.003459</td>\n",
       "      <td>-1.350494</td>\n",
       "      <td>-0.281108</td>\n",
       "      <td>-1.018542</td>\n",
       "      <td>-0.240041</td>\n",
       "    </tr>\n",
       "    <tr>\n",
       "      <th>85</th>\n",
       "      <td>-1.801579</td>\n",
       "      <td>-0.186094</td>\n",
       "      <td>-0.820759</td>\n",
       "      <td>-0.221726</td>\n",
       "      <td>-1.159093</td>\n",
       "      <td>-0.122614</td>\n",
       "    </tr>\n",
       "    <tr>\n",
       "      <th>285</th>\n",
       "      <td>-1.808370</td>\n",
       "      <td>-0.454978</td>\n",
       "      <td>-1.847451</td>\n",
       "      <td>-0.245497</td>\n",
       "      <td>-1.413886</td>\n",
       "      <td>-0.283136</td>\n",
       "    </tr>\n",
       "    <tr>\n",
       "      <th>224</th>\n",
       "      <td>-1.814305</td>\n",
       "      <td>-0.101854</td>\n",
       "      <td>-0.648814</td>\n",
       "      <td>-0.268365</td>\n",
       "      <td>-1.001308</td>\n",
       "      <td>-0.242517</td>\n",
       "    </tr>\n",
       "    <tr>\n",
       "      <th>809</th>\n",
       "      <td>-1.827804</td>\n",
       "      <td>-0.436983</td>\n",
       "      <td>-1.028378</td>\n",
       "      <td>-0.227037</td>\n",
       "      <td>-0.446055</td>\n",
       "      <td>-0.118587</td>\n",
       "    </tr>\n",
       "    <tr>\n",
       "      <th>107</th>\n",
       "      <td>-1.831715</td>\n",
       "      <td>-0.296487</td>\n",
       "      <td>-1.588847</td>\n",
       "      <td>-0.007354</td>\n",
       "      <td>-0.618413</td>\n",
       "      <td>-0.209053</td>\n",
       "    </tr>\n",
       "    <tr>\n",
       "      <th>505</th>\n",
       "      <td>-1.833153</td>\n",
       "      <td>-0.176352</td>\n",
       "      <td>-0.870737</td>\n",
       "      <td>-0.069727</td>\n",
       "      <td>-0.609948</td>\n",
       "      <td>-0.168142</td>\n",
       "    </tr>\n",
       "    <tr>\n",
       "      <th>529</th>\n",
       "      <td>-1.851211</td>\n",
       "      <td>-0.332648</td>\n",
       "      <td>-0.620990</td>\n",
       "      <td>-0.142352</td>\n",
       "      <td>-1.513107</td>\n",
       "      <td>-0.085690</td>\n",
       "    </tr>\n",
       "    <tr>\n",
       "      <th>157</th>\n",
       "      <td>-1.858805</td>\n",
       "      <td>-0.469549</td>\n",
       "      <td>-1.177532</td>\n",
       "      <td>-0.237853</td>\n",
       "      <td>-1.049766</td>\n",
       "      <td>-0.151022</td>\n",
       "    </tr>\n",
       "    <tr>\n",
       "      <th>237</th>\n",
       "      <td>-1.885000</td>\n",
       "      <td>-0.428948</td>\n",
       "      <td>-0.995628</td>\n",
       "      <td>-0.215967</td>\n",
       "      <td>-2.127084</td>\n",
       "      <td>-0.408297</td>\n",
       "    </tr>\n",
       "    <tr>\n",
       "      <th>774</th>\n",
       "      <td>-1.909551</td>\n",
       "      <td>-0.296749</td>\n",
       "      <td>-0.931704</td>\n",
       "      <td>-0.230477</td>\n",
       "      <td>-1.388550</td>\n",
       "      <td>-0.289734</td>\n",
       "    </tr>\n",
       "    <tr>\n",
       "      <th>835</th>\n",
       "      <td>-1.927652</td>\n",
       "      <td>-0.280297</td>\n",
       "      <td>-1.473448</td>\n",
       "      <td>-0.273341</td>\n",
       "      <td>-1.532277</td>\n",
       "      <td>-0.037871</td>\n",
       "    </tr>\n",
       "    <tr>\n",
       "      <th>181</th>\n",
       "      <td>-1.936306</td>\n",
       "      <td>-0.190324</td>\n",
       "      <td>-1.404815</td>\n",
       "      <td>-0.272415</td>\n",
       "      <td>-0.792840</td>\n",
       "      <td>-0.170704</td>\n",
       "    </tr>\n",
       "    <tr>\n",
       "      <th>789</th>\n",
       "      <td>-1.939464</td>\n",
       "      <td>-0.250368</td>\n",
       "      <td>-0.842019</td>\n",
       "      <td>-0.213583</td>\n",
       "      <td>-0.998729</td>\n",
       "      <td>-0.169841</td>\n",
       "    </tr>\n",
       "    <tr>\n",
       "      <th>377</th>\n",
       "      <td>-1.950118</td>\n",
       "      <td>-0.592729</td>\n",
       "      <td>-1.456548</td>\n",
       "      <td>-0.251260</td>\n",
       "      <td>-1.822675</td>\n",
       "      <td>-0.045476</td>\n",
       "    </tr>\n",
       "    <tr>\n",
       "      <th>661</th>\n",
       "      <td>-1.962862</td>\n",
       "      <td>-0.238726</td>\n",
       "      <td>-0.684099</td>\n",
       "      <td>-0.360627</td>\n",
       "      <td>-1.356396</td>\n",
       "      <td>-0.239433</td>\n",
       "    </tr>\n",
       "    <tr>\n",
       "      <th>170</th>\n",
       "      <td>-1.962870</td>\n",
       "      <td>-0.299151</td>\n",
       "      <td>-0.790069</td>\n",
       "      <td>-0.350159</td>\n",
       "      <td>-0.643984</td>\n",
       "      <td>-0.115444</td>\n",
       "    </tr>\n",
       "    <tr>\n",
       "      <th>483</th>\n",
       "      <td>-1.979998</td>\n",
       "      <td>-0.208911</td>\n",
       "      <td>-0.741175</td>\n",
       "      <td>-0.186063</td>\n",
       "      <td>-0.672751</td>\n",
       "      <td>-0.239638</td>\n",
       "    </tr>\n",
       "    <tr>\n",
       "      <th>229</th>\n",
       "      <td>-1.983157</td>\n",
       "      <td>-0.233610</td>\n",
       "      <td>-1.047408</td>\n",
       "      <td>-0.157412</td>\n",
       "      <td>-1.059079</td>\n",
       "      <td>-0.099700</td>\n",
       "    </tr>\n",
       "    <tr>\n",
       "      <th>763</th>\n",
       "      <td>-2.006897</td>\n",
       "      <td>-0.480654</td>\n",
       "      <td>-0.683288</td>\n",
       "      <td>-0.180351</td>\n",
       "      <td>-0.756470</td>\n",
       "      <td>-0.304749</td>\n",
       "    </tr>\n",
       "    <tr>\n",
       "      <th>706</th>\n",
       "      <td>-2.036127</td>\n",
       "      <td>-0.533972</td>\n",
       "      <td>-0.717034</td>\n",
       "      <td>-0.066742</td>\n",
       "      <td>-1.191139</td>\n",
       "      <td>-0.177013</td>\n",
       "    </tr>\n",
       "    <tr>\n",
       "      <th>160</th>\n",
       "      <td>-2.109278</td>\n",
       "      <td>-0.478429</td>\n",
       "      <td>-1.278785</td>\n",
       "      <td>-0.267644</td>\n",
       "      <td>-0.752080</td>\n",
       "      <td>-0.203621</td>\n",
       "    </tr>\n",
       "    <tr>\n",
       "      <th>437</th>\n",
       "      <td>-2.129749</td>\n",
       "      <td>-0.112591</td>\n",
       "      <td>-1.203827</td>\n",
       "      <td>-0.064757</td>\n",
       "      <td>-1.444249</td>\n",
       "      <td>-0.695465</td>\n",
       "    </tr>\n",
       "    <tr>\n",
       "      <th>458</th>\n",
       "      <td>-2.147855</td>\n",
       "      <td>-0.327687</td>\n",
       "      <td>-0.646729</td>\n",
       "      <td>-0.167192</td>\n",
       "      <td>-1.313091</td>\n",
       "      <td>-0.325432</td>\n",
       "    </tr>\n",
       "    <tr>\n",
       "      <th>471</th>\n",
       "      <td>-2.186023</td>\n",
       "      <td>-0.249501</td>\n",
       "      <td>-1.479842</td>\n",
       "      <td>0.001336</td>\n",
       "      <td>-0.666932</td>\n",
       "      <td>-0.107531</td>\n",
       "    </tr>\n",
       "    <tr>\n",
       "      <th>203</th>\n",
       "      <td>-2.305774</td>\n",
       "      <td>-0.416899</td>\n",
       "      <td>-0.726756</td>\n",
       "      <td>-0.088591</td>\n",
       "      <td>-1.788589</td>\n",
       "      <td>-0.222032</td>\n",
       "    </tr>\n",
       "    <tr>\n",
       "      <th>48</th>\n",
       "      <td>-2.358719</td>\n",
       "      <td>-0.310822</td>\n",
       "      <td>-1.296219</td>\n",
       "      <td>-0.216065</td>\n",
       "      <td>-1.127253</td>\n",
       "      <td>-0.167213</td>\n",
       "    </tr>\n",
       "    <tr>\n",
       "      <th>381</th>\n",
       "      <td>-2.472425</td>\n",
       "      <td>-0.355679</td>\n",
       "      <td>-1.421352</td>\n",
       "      <td>-0.277167</td>\n",
       "      <td>-0.952094</td>\n",
       "      <td>-0.238249</td>\n",
       "    </tr>\n",
       "  </tbody>\n",
       "</table>\n",
       "<p>1000 rows × 6 columns</p>\n",
       "</div>"
      ],
      "text/plain": [
       "     sample0_DecisionTree  sample0_KNeighbors  sample1_DecisionTree  \\\n",
       "639              0.927408            0.765546              0.928160   \n",
       "956              0.886172            0.762094              0.901443   \n",
       "867              0.819643            0.616547              0.772777   \n",
       "336              0.781835            0.631073              0.752961   \n",
       "920              0.749918            0.493926              0.694970   \n",
       "701              0.745191            0.516612              0.780464   \n",
       "269              0.739760            0.485213              0.708770   \n",
       "504              0.723879            0.542038              0.482788   \n",
       "341              0.711988            0.670392              0.778390   \n",
       "395              0.704585            0.552216              0.727241   \n",
       "724              0.693780            0.561768              0.694918   \n",
       "315              0.689037            0.600497              0.762291   \n",
       "829              0.662500            0.595766              0.549854   \n",
       "736              0.658151            0.469071              0.588398   \n",
       "257              0.606124            0.604212              0.686228   \n",
       "769              0.535470            0.500617              0.638929   \n",
       "526              0.473975            0.565200              0.499838   \n",
       "808              0.442773            0.472452              0.610752   \n",
       "681              0.422852            0.329518              0.596078   \n",
       "308              0.377005            0.282912              0.569598   \n",
       "463             -0.304912           -0.072661             -1.352521   \n",
       "502             -0.356546           -0.272216             -1.585285   \n",
       "337             -0.385433           -0.133136             -1.179454   \n",
       "542             -0.413927           -0.350349             -1.037661   \n",
       "753             -0.443608           -0.101489             -0.892912   \n",
       "424             -0.444834           -0.192385             -1.033574   \n",
       "652             -0.465938           -0.169528             -1.168917   \n",
       "446             -0.475720           -0.182980             -1.219030   \n",
       "405             -0.478261           -0.414269             -0.999898   \n",
       "885             -0.479273           -0.166034             -1.232641   \n",
       "..                    ...                 ...                   ...   \n",
       "646             -1.794899           -0.339386             -1.604285   \n",
       "780             -1.796143           -0.228508             -0.998439   \n",
       "451             -1.801282           -0.003459             -1.350494   \n",
       "85              -1.801579           -0.186094             -0.820759   \n",
       "285             -1.808370           -0.454978             -1.847451   \n",
       "224             -1.814305           -0.101854             -0.648814   \n",
       "809             -1.827804           -0.436983             -1.028378   \n",
       "107             -1.831715           -0.296487             -1.588847   \n",
       "505             -1.833153           -0.176352             -0.870737   \n",
       "529             -1.851211           -0.332648             -0.620990   \n",
       "157             -1.858805           -0.469549             -1.177532   \n",
       "237             -1.885000           -0.428948             -0.995628   \n",
       "774             -1.909551           -0.296749             -0.931704   \n",
       "835             -1.927652           -0.280297             -1.473448   \n",
       "181             -1.936306           -0.190324             -1.404815   \n",
       "789             -1.939464           -0.250368             -0.842019   \n",
       "377             -1.950118           -0.592729             -1.456548   \n",
       "661             -1.962862           -0.238726             -0.684099   \n",
       "170             -1.962870           -0.299151             -0.790069   \n",
       "483             -1.979998           -0.208911             -0.741175   \n",
       "229             -1.983157           -0.233610             -1.047408   \n",
       "763             -2.006897           -0.480654             -0.683288   \n",
       "706             -2.036127           -0.533972             -0.717034   \n",
       "160             -2.109278           -0.478429             -1.278785   \n",
       "437             -2.129749           -0.112591             -1.203827   \n",
       "458             -2.147855           -0.327687             -0.646729   \n",
       "471             -2.186023           -0.249501             -1.479842   \n",
       "203             -2.305774           -0.416899             -0.726756   \n",
       "48              -2.358719           -0.310822             -1.296219   \n",
       "381             -2.472425           -0.355679             -1.421352   \n",
       "\n",
       "     sample1_KNeighbors  sample2_DecisionTree  sample2_KNeighbors  \n",
       "639            0.736336              0.865986            0.654629  \n",
       "956            0.721654              0.873643            0.648066  \n",
       "867            0.636942              0.695628            0.585044  \n",
       "336            0.696783              0.672042            0.522090  \n",
       "920            0.419661              0.662646            0.527689  \n",
       "701            0.576887              0.670117            0.547489  \n",
       "269            0.662076              0.837314            0.608524  \n",
       "504            0.452808              0.437115            0.356188  \n",
       "341            0.711253              0.747792            0.703786  \n",
       "395            0.599737              0.746817            0.624806  \n",
       "724            0.597765              0.722448            0.617379  \n",
       "315            0.653811              0.806019            0.637660  \n",
       "829            0.484093              0.553949            0.418499  \n",
       "736            0.541504              0.562101            0.386677  \n",
       "257            0.606748              0.705658            0.578984  \n",
       "769            0.528797              0.583860            0.410272  \n",
       "526            0.508901              0.419409            0.505563  \n",
       "808            0.500485              0.658955            0.414743  \n",
       "681            0.318474              0.567058            0.141681  \n",
       "308            0.304817              0.509340            0.244508  \n",
       "463           -0.192762             -1.111292           -0.230748  \n",
       "502           -0.225520             -0.763924           -0.192816  \n",
       "337           -0.352835             -1.433839           -0.158929  \n",
       "542           -0.164488             -1.564160           -0.333289  \n",
       "753           -0.114874             -1.061632           -0.220567  \n",
       "424           -0.242876             -1.755959           -0.173423  \n",
       "652           -0.160170             -1.356431           -0.187690  \n",
       "446           -0.211661             -0.981326           -0.306534  \n",
       "405           -0.245251             -1.049668           -0.127560  \n",
       "885           -0.355185             -1.152809           -0.217927  \n",
       "..                  ...                   ...                 ...  \n",
       "646           -0.312606             -0.939552           -0.285845  \n",
       "780           -0.243331             -0.795807           -0.073660  \n",
       "451           -0.281108             -1.018542           -0.240041  \n",
       "85            -0.221726             -1.159093           -0.122614  \n",
       "285           -0.245497             -1.413886           -0.283136  \n",
       "224           -0.268365             -1.001308           -0.242517  \n",
       "809           -0.227037             -0.446055           -0.118587  \n",
       "107           -0.007354             -0.618413           -0.209053  \n",
       "505           -0.069727             -0.609948           -0.168142  \n",
       "529           -0.142352             -1.513107           -0.085690  \n",
       "157           -0.237853             -1.049766           -0.151022  \n",
       "237           -0.215967             -2.127084           -0.408297  \n",
       "774           -0.230477             -1.388550           -0.289734  \n",
       "835           -0.273341             -1.532277           -0.037871  \n",
       "181           -0.272415             -0.792840           -0.170704  \n",
       "789           -0.213583             -0.998729           -0.169841  \n",
       "377           -0.251260             -1.822675           -0.045476  \n",
       "661           -0.360627             -1.356396           -0.239433  \n",
       "170           -0.350159             -0.643984           -0.115444  \n",
       "483           -0.186063             -0.672751           -0.239638  \n",
       "229           -0.157412             -1.059079           -0.099700  \n",
       "763           -0.180351             -0.756470           -0.304749  \n",
       "706           -0.066742             -1.191139           -0.177013  \n",
       "160           -0.267644             -0.752080           -0.203621  \n",
       "437           -0.064757             -1.444249           -0.695465  \n",
       "458           -0.167192             -1.313091           -0.325432  \n",
       "471            0.001336             -0.666932           -0.107531  \n",
       "203           -0.088591             -1.788589           -0.222032  \n",
       "48            -0.216065             -1.127253           -0.167213  \n",
       "381           -0.277167             -0.952094           -0.238249  \n",
       "\n",
       "[1000 rows x 6 columns]"
      ]
     },
     "execution_count": 8,
     "metadata": {},
     "output_type": "execute_result"
    }
   ],
   "source": [
    "# dataframe of all R^2 values from high to low on sample0 DecisionTreeClassifier R^2 score\n",
    "\n",
    "r2_df = pd.concat([sample0_r2_df, sample1_r2_df, sample2_r2_df], axis=1, join_axes=[sample0_r2_df.index])\n",
    "r2_df.sort('sample0_DecisionTree', ascending=False)"
   ]
  },
  {
   "cell_type": "markdown",
   "metadata": {},
   "source": [
    "The dataset we were given has 5 informative features and 15 redundant features. This means there are a total of 20 relevant features. In the table above, the R^2 values that were returned for each feature show that there are exactly 20 R^2 values that are positive for both regressors in all 3 samples(and all above 0.24). I claim that these 20 features are the 20 relevant features.\n",
    "\n",
    "These 20 features are: 257, 269, 308, 315, 336, 341, 395, 504, 526, 639, 681, 701, 724, 736, 769, 808, 829, 867, 920, and 956."
   ]
  },
  {
   "cell_type": "markdown",
   "metadata": {},
   "source": [
    "### Using only 20 features"
   ]
  },
  {
   "cell_type": "code",
   "execution_count": 9,
   "metadata": {
    "collapsed": true
   },
   "outputs": [],
   "source": [
    "%matplotlib inline"
   ]
  },
  {
   "cell_type": "code",
   "execution_count": 10,
   "metadata": {
    "collapsed": true
   },
   "outputs": [],
   "source": [
    "# loads in dataset of 60,000 observations for 20 features and the targets variable\n",
    "\n",
    "informative_result_df = pd.read_pickle('data/informative_results_df.p')"
   ]
  },
  {
   "cell_type": "code",
   "execution_count": 11,
   "metadata": {
    "collapsed": true
   },
   "outputs": [],
   "source": [
    "targets = informative_result_df['target']\n",
    "df = informative_result_df.drop('target', 1)"
   ]
  },
  {
   "cell_type": "code",
   "execution_count": 12,
   "metadata": {},
   "outputs": [
    {
     "data": {
      "image/png": "[encoded data removed]",
      "text/plain": [
       "<matplotlib.figure.Figure at 0x7fa5b836c518>"
      ]
     },
     "metadata": {},
     "output_type": "display_data"
    }
   ],
   "source": [
    "# display correlation heat map with the 20 features\n",
    "\n",
    "fig, ax = plt.subplots(figsize=(40, 40))\n",
    "\n",
    "corr = df.corr()\n",
    "mask = np.zeros_like(corr)\n",
    "mask[np.triu_indices_from(mask, 1)] = True\n",
    "with sns.axes_style(\"white\"):\n",
    "    ax = sns.heatmap(corr, mask=mask, square=True, annot=True,\n",
    "                     cmap='RdBu', fmt='+.3f')\n",
    "    plt.xticks(rotation=45, ha='center')"
   ]
  },
  {
   "cell_type": "markdown",
   "metadata": {},
   "source": [
    "### Feature Selection using SKBest"
   ]
  },
  {
   "cell_type": "markdown",
   "metadata": {},
   "source": [
    "Creates 3 samples of 20,000 observations and of the top 20 features and determines the 5 best features for finding the target for each sample set. These five features are then used to fit three different models and the test and train scores are displayed."
   ]
  },
  {
   "cell_type": "code",
   "execution_count": 13,
   "metadata": {
    "collapsed": true
   },
   "outputs": [],
   "source": [
    "# feature selection function using SelectKBest where k = 5 since we know there are 5 non-redundant features\n",
    "\n",
    "def feature_selection_skb(X, y):\n",
    "    skb = SelectKBest(k = 5)\n",
    "    skb.fit(X, y)\n",
    "    \n",
    "    skb_feats = np.where(skb.get_support())[0]\n",
    "    return skb_feats"
   ]
  },
  {
   "cell_type": "code",
   "execution_count": 14,
   "metadata": {
    "collapsed": true
   },
   "outputs": [],
   "source": [
    "# creates madelon_train_full from the df dataframe of 60,000 observations and also adds the targets column\n",
    "\n",
    "madelon_train_full = df\n",
    "madelon_train_full['target'] = targets"
   ]
  },
  {
   "cell_type": "code",
   "execution_count": 15,
   "metadata": {
    "collapsed": true
   },
   "outputs": [],
   "source": [
    "# creates the samples of 20,000 and creates a target variable and drops the target from the sample\n",
    "\n",
    "sample0_twenty = madelon_train_full.sample(frac = 0.33, random_state = 42)\n",
    "sample1_twenty = madelon_train_full.sample(frac = 0.33, random_state = 43)\n",
    "sample2_twenty = madelon_train_full.sample(frac = 0.33, random_state = 44)\n",
    "\n",
    "sample0_twenty_target = sample0_twenty['target']\n",
    "sample1_twenty_target = sample1_twenty['target']\n",
    "sample2_twenty_target = sample2_twenty['target']\n",
    "\n",
    "sample0_twenty = sample0_twenty.drop('target', 1)\n",
    "sample1_twenty = sample1_twenty.drop('target', 1)\n",
    "sample2_twenty = sample2_twenty.drop('target', 1)"
   ]
  },
  {
   "cell_type": "code",
   "execution_count": 16,
   "metadata": {
    "collapsed": true
   },
   "outputs": [],
   "source": [
    "# scales all three samples\n",
    "\n",
    "ss0_twenty = StandardScaler()\n",
    "ss1_twenty = StandardScaler()\n",
    "ss2_twenty = StandardScaler()\n",
    "\n",
    "sample0_twenty_sc = ss0_twenty.fit_transform(sample0_twenty)\n",
    "sample1_twenty_sc = ss1_twenty.fit_transform(sample1_twenty)\n",
    "sample2_twenty_sc = ss2_twenty.fit_transform(sample2_twenty)"
   ]
  },
  {
   "cell_type": "code",
   "execution_count": 17,
   "metadata": {},
   "outputs": [
    {
     "name": "stdout",
     "output_type": "stream",
     "text": [
      "For sample0, the 5 best features are [ 1  5 10 11 18]\n",
      "For sample1, the 5 best features are [ 1  5 10 11 18]\n",
      "For sample2, the 5 best features are [ 1  5 10 11 18]\n"
     ]
    }
   ],
   "source": [
    "# prints the 5 best features for the scaled version and using SKBest for each sample\n",
    "\n",
    "print(\"For sample0, the 5 best features are {}\".format(feature_selection_skb(sample0_twenty_sc, sample0_twenty_target)))\n",
    "print(\"For sample1, the 5 best features are {}\".format(feature_selection_skb(sample1_twenty_sc, sample1_twenty_target)))\n",
    "print(\"For sample2, the 5 best features are {}\".format(feature_selection_skb(sample2_twenty_sc, sample2_twenty_target)))"
   ]
  },
  {
   "cell_type": "markdown",
   "metadata": {},
   "source": [
    "Five informative features are 269, 341, 381, 701, 920"
   ]
  },
  {
   "cell_type": "code",
   "execution_count": 22,
   "metadata": {
    "collapsed": true
   },
   "outputs": [],
   "source": [
    "# creates a new dataframe (new_df) from df of 60,000 observations of only the top 5 features and the target variable\n",
    "\n",
    "new_df = df.iloc[:, [1, 5, 10, 11, 18]]\n",
    "\n",
    "new_df['target'] = targets"
   ]
  },
  {
   "cell_type": "code",
   "execution_count": 29,
   "metadata": {
    "collapsed": true
   },
   "outputs": [],
   "source": [
    "def train_test_scores(dataframe, model, scaled = False):\n",
    "    \n",
    "    i = 42\n",
    "    train_scores = list()\n",
    "    test_scores = list()\n",
    "    \n",
    "    for random_state in range(3):\n",
    "    \n",
    "        sample = dataframe.sample(frac = 0.33, random_state = i+random_state)\n",
    "        sample_target = sample['target']\n",
    "        sample = sample.drop('target', 1)\n",
    "        \n",
    "        X_train, X_test, y_train, y_test = train_test_split(sample, sample_target, test_size = 0.2, random_state = 42)\n",
    "            \n",
    "        classifier = model\n",
    "        \n",
    "        classifier.fit(X_train, y_train)\n",
    "        train_score = classifier.score(X_train, y_train)\n",
    "        test_score = classifier.score(X_test, y_test)\n",
    "        \n",
    "        if scaled:\n",
    "            ss = StandardScaler()\n",
    "            X_train_sc = ss.fit_transform(X_train)\n",
    "            X_test_sc = ss.transform(X_test)\n",
    "            \n",
    "            classifier_sc = model\n",
    "            classifier_sc.fit(X_train_sc, y_train)\n",
    "            \n",
    "            train_score = classifier_sc.score(X_train_sc, y_train)\n",
    "            test_score = classifier_sc.score(X_test_sc, y_test)\n",
    "            \n",
    "        train_scores.append(train_score)\n",
    "        test_scores.append(test_score) \n",
    "        \n",
    "    avg_train_score = sum(train_scores)/len(train_scores)\n",
    "    avg_test_score = sum(test_scores)/len(test_scores)\n",
    "        \n",
    "    return avg_train_score, avg_test_score"
   ]
  },
  {
   "cell_type": "code",
   "execution_count": 26,
   "metadata": {},
   "outputs": [
    {
     "data": {
      "text/plain": [
       "(0.6098063973063973, 0.59587542087542078)"
      ]
     },
     "execution_count": 26,
     "metadata": {},
     "output_type": "execute_result"
    }
   ],
   "source": [
    "lr_scores = train_test_scores(new_df, LogisticRegression())\n",
    "scores"
   ]
  },
  {
   "cell_type": "code",
   "execution_count": 28,
   "metadata": {},
   "outputs": [
    {
     "data": {
      "text/plain": [
       "(0.61022727272727273, 0.59503367003367014)"
      ]
     },
     "execution_count": 28,
     "metadata": {},
     "output_type": "execute_result"
    }
   ],
   "source": [
    "lr_scores_sc = train_test_scores(new_df, LogisticRegression(), scaled=True)\n",
    "lr_scores_sc"
   ]
  },
  {
   "cell_type": "code",
   "execution_count": 31,
   "metadata": {},
   "outputs": [
    {
     "data": {
      "text/plain": [
       "(0.82430555555555551, 0.72811447811447805)"
      ]
     },
     "execution_count": 31,
     "metadata": {},
     "output_type": "execute_result"
    }
   ],
   "source": [
    "knc_scores = train_test_scores(new_df, KNeighborsClassifier())\n",
    "knc_scores"
   ]
  },
  {
   "cell_type": "code",
   "execution_count": 33,
   "metadata": {},
   "outputs": [
    {
     "data": {
      "text/plain": [
       "(0.82493686868686866, 0.73316498316498313)"
      ]
     },
     "execution_count": 33,
     "metadata": {},
     "output_type": "execute_result"
    }
   ],
   "source": [
    "knc_scores_sc = train_test_scores(new_df, KNeighborsClassifier(), scaled=True)\n",
    "knc_scores_sc"
   ]
  },
  {
   "cell_type": "code",
   "execution_count": 35,
   "metadata": {},
   "outputs": [
    {
     "data": {
      "text/plain": [
       "(1.0, 0.67239057239057232)"
      ]
     },
     "execution_count": 35,
     "metadata": {},
     "output_type": "execute_result"
    }
   ],
   "source": [
    "dtc_scores = train_test_scores(new_df, DecisionTreeClassifier())\n",
    "dtc_scores"
   ]
  },
  {
   "cell_type": "code",
   "execution_count": 36,
   "metadata": {},
   "outputs": [
    {
     "data": {
      "text/plain": [
       "(1.0, 0.6742424242424242)"
      ]
     },
     "execution_count": 36,
     "metadata": {},
     "output_type": "execute_result"
    }
   ],
   "source": [
    "dtc_scores_sc = train_test_scores(new_df, DecisionTreeClassifier(), scaled=True)\n",
    "dtc_scores_sc"
   ]
  },
  {
   "cell_type": "code",
   "execution_count": 37,
   "metadata": {},
   "outputs": [
    {
     "data": {
      "text/plain": [
       "(0.98558501683501687, 0.7151515151515152)"
      ]
     },
     "execution_count": 37,
     "metadata": {},
     "output_type": "execute_result"
    }
   ],
   "source": [
    "rf_scores = train_test_scores(new_df, RandomForestClassifier())\n",
    "rf_scores"
   ]
  },
  {
   "cell_type": "code",
   "execution_count": 38,
   "metadata": {},
   "outputs": [
    {
     "data": {
      "text/plain": [
       "(0.98636363636363633, 0.71675084175084169)"
      ]
     },
     "execution_count": 38,
     "metadata": {},
     "output_type": "execute_result"
    }
   ],
   "source": [
    "rf_scores_sc = train_test_scores(new_df, RandomForestClassifier(), scaled=True)\n",
    "rf_scores_sc"
   ]
  },
  {
   "cell_type": "markdown",
   "metadata": {},
   "source": [
    "### Feature Selection using RFE"
   ]
  },
  {
   "cell_type": "code",
   "execution_count": 39,
   "metadata": {
    "collapsed": true
   },
   "outputs": [],
   "source": [
    "informative_feats = ['feat_257', 'feat_269', 'feat_308', 'feat_315', 'feat_336', 'feat_341', 'feat_395', 'feat_504', 'feat_526', 'feat_639', 'feat_681', 'feat_701', 'feat_724', 'feat_736', 'feat_769', 'feat_808', 'feat_829', 'feat_867', 'feat_920', 'feat_956']"
   ]
  },
  {
   "cell_type": "code",
   "execution_count": 40,
   "metadata": {
    "collapsed": true
   },
   "outputs": [],
   "source": [
    "# using only the 20 features that were found to be informative from the R2 inspection, create a train and target dataframe from the full train dataset and scale\n",
    "\n",
    "informative_train = df[informative_feats]\n",
    "target_train = df['target']\n",
    "\n",
    "ss = StandardScaler()\n",
    "informative_train_sc = ss.fit_transform(informative_train)"
   ]
  },
  {
   "cell_type": "code",
   "execution_count": 42,
   "metadata": {
    "collapsed": true
   },
   "outputs": [],
   "source": [
    "# RFE using the DecisionTreeClassifier, LogisticeRegression, and RandomForestClassifier and selecting 5 features\n",
    "rfe_tree = RFE(DecisionTreeClassifier(random_state=42), n_features_to_select=5, step=1, verbose=1)\n",
    "rfe_lr = RFE(LogisticRegression(), n_features_to_select = 5, step = 1, verbose = 1)\n",
    "rfe_rf = RFE(RandomForestClassifier(), n_features_to_select = 5, step = 1, verbose = 1)"
   ]
  },
  {
   "cell_type": "code",
   "execution_count": 43,
   "metadata": {},
   "outputs": [
    {
     "name": "stdout",
     "output_type": "stream",
     "text": [
      "Fitting estimator with 20 features.\n",
      "Fitting estimator with 19 features.\n",
      "Fitting estimator with 18 features.\n",
      "Fitting estimator with 17 features.\n",
      "Fitting estimator with 16 features.\n",
      "Fitting estimator with 15 features.\n",
      "Fitting estimator with 14 features.\n",
      "Fitting estimator with 13 features.\n",
      "Fitting estimator with 12 features.\n",
      "Fitting estimator with 11 features.\n",
      "Fitting estimator with 10 features.\n",
      "Fitting estimator with 9 features.\n",
      "Fitting estimator with 8 features.\n",
      "Fitting estimator with 7 features.\n",
      "Fitting estimator with 6 features.\n",
      "Fitting estimator with 20 features.\n",
      "Fitting estimator with 19 features.\n",
      "Fitting estimator with 18 features.\n",
      "Fitting estimator with 17 features.\n",
      "Fitting estimator with 16 features.\n",
      "Fitting estimator with 15 features.\n",
      "Fitting estimator with 14 features.\n",
      "Fitting estimator with 13 features.\n",
      "Fitting estimator with 12 features.\n",
      "Fitting estimator with 11 features.\n",
      "Fitting estimator with 10 features.\n",
      "Fitting estimator with 9 features.\n",
      "Fitting estimator with 8 features.\n",
      "Fitting estimator with 7 features.\n",
      "Fitting estimator with 6 features.\n",
      "Fitting estimator with 20 features.\n",
      "Fitting estimator with 19 features.\n",
      "Fitting estimator with 18 features.\n",
      "Fitting estimator with 17 features.\n",
      "Fitting estimator with 16 features.\n",
      "Fitting estimator with 15 features.\n",
      "Fitting estimator with 14 features.\n",
      "Fitting estimator with 13 features.\n",
      "Fitting estimator with 12 features.\n",
      "Fitting estimator with 11 features.\n",
      "Fitting estimator with 10 features.\n",
      "Fitting estimator with 9 features.\n",
      "Fitting estimator with 8 features.\n",
      "Fitting estimator with 7 features.\n",
      "Fitting estimator with 6 features.\n"
     ]
    },
    {
     "data": {
      "text/plain": [
       "RFE(estimator=RandomForestClassifier(bootstrap=True, class_weight=None, criterion='gini',\n",
       "            max_depth=None, max_features='auto', max_leaf_nodes=None,\n",
       "            min_impurity_split=1e-07, min_samples_leaf=1,\n",
       "            min_samples_split=2, min_weight_fraction_leaf=0.0,\n",
       "            n_estimators=10, n_jobs=1, oob_score=False, random_state=None,\n",
       "            verbose=0, warm_start=False),\n",
       "  n_features_to_select=5, step=1, verbose=1)"
      ]
     },
     "execution_count": 43,
     "metadata": {},
     "output_type": "execute_result"
    }
   ],
   "source": [
    "rfe_tree.fit(sample0_twenty, sample0_twenty_target)\n",
    "rfe_lr.fit(sample0_twenty, sample0_twenty_target)\n",
    "rfe_rf.fit(sample0_twenty, sample0_twenty_target)"
   ]
  },
  {
   "cell_type": "code",
   "execution_count": 44,
   "metadata": {
    "collapsed": true
   },
   "outputs": [],
   "source": [
    "# the 5 features that were found to be the most informative from the RFE fit models\n",
    "rfe_tree_feats = np.where(rfe_tree.get_support())[0]\n",
    "rfe_lr_feats = np.where(rfe_lr.get_support())[0]\n",
    "rfe_rf_feats = np.where(rfe_rf.get_support())[0]"
   ]
  },
  {
   "cell_type": "markdown",
   "metadata": {},
   "source": [
    "### Feature Selection using SelectFromModel"
   ]
  },
  {
   "cell_type": "code",
   "execution_count": 45,
   "metadata": {
    "collapsed": true
   },
   "outputs": [],
   "source": [
    "# using both the DecisionTreeClassifier and the KNeighborsClassifier, use the SelectFromModel function to determine the most informative features\n",
    "sfm_decisiontree = SelectFromModel(DecisionTreeClassifier(random_state=42), threshold='mean')\n",
    "sfm_lr = SelectFromModel(LogisticRegression(), threshold='mean')\n",
    "sfm_rf = SelectFromModel(RandomForestClassifier(random_state=42), threshold = 'mean')"
   ]
  },
  {
   "cell_type": "code",
   "execution_count": 47,
   "metadata": {},
   "outputs": [
    {
     "data": {
      "text/plain": [
       "SelectFromModel(estimator=RandomForestClassifier(bootstrap=True, class_weight=None, criterion='gini',\n",
       "            max_depth=None, max_features='auto', max_leaf_nodes=None,\n",
       "            min_impurity_split=1e-07, min_samples_leaf=1,\n",
       "            min_samples_split=2, min_weight_fraction_leaf=0.0,\n",
       "            n_estimators=10, n_jobs=1, oob_score=False, random_state=42,\n",
       "            verbose=0, warm_start=False),\n",
       "        prefit=False, threshold='mean')"
      ]
     },
     "execution_count": 47,
     "metadata": {},
     "output_type": "execute_result"
    }
   ],
   "source": [
    "# scale the data and fit the two SFMs\n",
    "ss = StandardScaler()\n",
    "madelon_train_sc = ss.fit_transform(sample0_twenty)\n",
    "\n",
    "sfm_decisiontree.fit(madelon_train_sc, sample0_twenty_target)\n",
    "sfm_lr.fit(madelon_train_sc, sample0_twenty_target)\n",
    "sfm_rf.fit(madelon_train_sc, sample0_twenty_target)"
   ]
  },
  {
   "cell_type": "code",
   "execution_count": 48,
   "metadata": {
    "collapsed": true
   },
   "outputs": [],
   "source": [
    "# find the features that the model found to be the most informative\n",
    "sfm_dtree_feats = np.where(sfm_decisiontree.get_support())[0]\n",
    "sfm_lr_feats = np.where(sfm_lr.get_support())[0]\n",
    "sfm_rf_feats = np.where(sfm_rf.get_support())[0]"
   ]
  },
  {
   "cell_type": "markdown",
   "metadata": {},
   "source": [
    "### Feature Selection using SelectPercentile"
   ]
  },
  {
   "cell_type": "code",
   "execution_count": 49,
   "metadata": {
    "collapsed": true
   },
   "outputs": [],
   "source": [
    "# select the top 25% most informative features\n",
    "selectperc = SelectPercentile(percentile=25)"
   ]
  },
  {
   "cell_type": "code",
   "execution_count": 50,
   "metadata": {
    "collapsed": true
   },
   "outputs": [],
   "source": [
    "ss = StandardScaler()\n",
    "madelon_train_sc = ss.fit_transform(sample0_twenty)"
   ]
  },
  {
   "cell_type": "code",
   "execution_count": 51,
   "metadata": {},
   "outputs": [
    {
     "data": {
      "text/plain": [
       "SelectPercentile(percentile=25,\n",
       "         score_func=<function f_classif at 0x7fa5c122abf8>)"
      ]
     },
     "execution_count": 51,
     "metadata": {},
     "output_type": "execute_result"
    }
   ],
   "source": [
    "selectperc.fit(madelon_train_sc, sample0_twenty_target)"
   ]
  },
  {
   "cell_type": "code",
   "execution_count": 52,
   "metadata": {
    "collapsed": true
   },
   "outputs": [],
   "source": [
    "sp_features = np.where(selectperc.get_support())[0]"
   ]
  },
  {
   "cell_type": "markdown",
   "metadata": {},
   "source": [
    "### Compare all Feature Selection Models"
   ]
  },
  {
   "cell_type": "code",
   "execution_count": 53,
   "metadata": {},
   "outputs": [
    {
     "data": {
      "text/plain": [
       "Index(['feat_269', 'feat_701', 'feat_681', 'feat_920', 'feat_341'], dtype='object')"
      ]
     },
     "execution_count": 53,
     "metadata": {},
     "output_type": "execute_result"
    }
   ],
   "source": [
    "# SelectPercentile features from most informative to least informative\n",
    "\n",
    "spercentile_feats = informative_train.iloc[:, selectperc.pvalues_.argsort()[:5]].columns\n",
    "spercentile_feats"
   ]
  },
  {
   "cell_type": "code",
   "execution_count": 54,
   "metadata": {
    "collapsed": true
   },
   "outputs": [],
   "source": [
    "# RFE features in order of feature number\n",
    "\n",
    "rfe_tree_feats = informative_train.iloc[:, rfe_tree_feats].columns\n",
    "rfe_lr_feats = informative_train.iloc[:, rfe_lr_feats].columns\n",
    "rfe_rf_feats = informative_train.iloc[:, rfe_rf_feats].columns"
   ]
  },
  {
   "cell_type": "code",
   "execution_count": 55,
   "metadata": {},
   "outputs": [
    {
     "data": {
      "text/plain": [
       "Index(['feat_269', 'feat_308', 'feat_724', 'feat_769', 'feat_829'], dtype='object')"
      ]
     },
     "execution_count": 55,
     "metadata": {},
     "output_type": "execute_result"
    }
   ],
   "source": [
    "# Top 5 RFE features for DecisionTreeClassifier\n",
    "\n",
    "rfe_tree_feats"
   ]
  },
  {
   "cell_type": "code",
   "execution_count": 70,
   "metadata": {},
   "outputs": [
    {
     "data": {
      "text/plain": [
       "Index(['feat_269', 'feat_504', 'feat_681', 'feat_829', 'feat_920'], dtype='object')"
      ]
     },
     "execution_count": 70,
     "metadata": {},
     "output_type": "execute_result"
    }
   ],
   "source": [
    "# Top 5 RFE features for LogisticRegression\n",
    "\n",
    "rfe_lr_feats"
   ]
  },
  {
   "cell_type": "code",
   "execution_count": 57,
   "metadata": {},
   "outputs": [
    {
     "data": {
      "text/plain": [
       "Index(['feat_269', 'feat_308', 'feat_395', 'feat_808', 'feat_920'], dtype='object')"
      ]
     },
     "execution_count": 57,
     "metadata": {},
     "output_type": "execute_result"
    }
   ],
   "source": [
    "# Top 5 RFE features for RandomForestClassifier\n",
    "\n",
    "rfe_rf_feats"
   ]
  },
  {
   "cell_type": "code",
   "execution_count": 58,
   "metadata": {},
   "outputs": [
    {
     "data": {
      "text/plain": [
       "Index(['feat_269', 'feat_341', 'feat_681', 'feat_701', 'feat_920'], dtype='object')"
      ]
     },
     "execution_count": 58,
     "metadata": {},
     "output_type": "execute_result"
    }
   ],
   "source": [
    "# SelectKBest features in order of feature numbers\n",
    "\n",
    "skb_feats = informative_train.iloc[:, feature_selection_skb(informative_train, target_train)].columns\n",
    "skb_feats"
   ]
  },
  {
   "cell_type": "code",
   "execution_count": 59,
   "metadata": {
    "collapsed": true
   },
   "outputs": [],
   "source": [
    "# SelectFromModel with the DecisionTreeClassifier model in order of feature numbers\n",
    "\n",
    "sfm_tree_feats = informative_train.iloc[:, sfm_dtree_feats].columns\n",
    "sfm_lr_feats = informative_train.iloc[:, sfm_lr_feats].columns\n",
    "sfm_rf_feats = informative_train.iloc[:, sfm_rf_feats].columns"
   ]
  },
  {
   "cell_type": "code",
   "execution_count": 60,
   "metadata": {},
   "outputs": [
    {
     "data": {
      "text/plain": [
       "Index(['feat_269', 'feat_308', 'feat_681', 'feat_724', 'feat_736', 'feat_769',\n",
       "       'feat_808', 'feat_829', 'feat_920'],\n",
       "      dtype='object')"
      ]
     },
     "execution_count": 60,
     "metadata": {},
     "output_type": "execute_result"
    }
   ],
   "source": [
    "# Top SFM features for DecisionTreeClassifier\n",
    "\n",
    "sfm_tree_feats"
   ]
  },
  {
   "cell_type": "code",
   "execution_count": 61,
   "metadata": {},
   "outputs": [
    {
     "data": {
      "text/plain": [
       "Index(['feat_257', 'feat_269', 'feat_308', 'feat_341', 'feat_504', 'feat_681',\n",
       "       'feat_701', 'feat_769', 'feat_808', 'feat_829', 'feat_920'],\n",
       "      dtype='object')"
      ]
     },
     "execution_count": 61,
     "metadata": {},
     "output_type": "execute_result"
    }
   ],
   "source": [
    "# Top SFM features for LogisticRegression\n",
    "\n",
    "sfm_lr_feats"
   ]
  },
  {
   "cell_type": "code",
   "execution_count": 62,
   "metadata": {},
   "outputs": [
    {
     "data": {
      "text/plain": [
       "Index(['feat_269', 'feat_308', 'feat_395', 'feat_504', 'feat_681', 'feat_724',\n",
       "       'feat_769', 'feat_808', 'feat_920', 'feat_956'],\n",
       "      dtype='object')"
      ]
     },
     "execution_count": 62,
     "metadata": {},
     "output_type": "execute_result"
    }
   ],
   "source": [
    "# Top SFM features for RandomForestClassifier\n",
    "\n",
    "sfm_rf_feats"
   ]
  },
  {
   "cell_type": "code",
   "execution_count": 63,
   "metadata": {},
   "outputs": [
    {
     "data": {
      "text/plain": [
       "array(['feat_257', 'feat_269', 'feat_308', 'feat_341', 'feat_504',\n",
       "       'feat_681', 'feat_701', 'feat_724', 'feat_736', 'feat_769',\n",
       "       'feat_808', 'feat_829', 'feat_920'], dtype=object)"
      ]
     },
     "execution_count": 63,
     "metadata": {},
     "output_type": "execute_result"
    }
   ],
   "source": [
    "# creates a union of all of the features found from the different techniques above\n",
    "\n",
    "union1 = np.union1d(spercentile_feats, rfe_tree_feats)\n",
    "union2 = np.union1d(union1, rfe_lr_feats)\n",
    "union3 = np.union1d(union2, skb_feats)\n",
    "union4 = np.union1d(union3, sfm_tree_feats)\n",
    "union = np.union1d(union4, sfm_lr_feats)\n",
    "union"
   ]
  },
  {
   "cell_type": "code",
   "execution_count": 67,
   "metadata": {
    "collapsed": true
   },
   "outputs": [],
   "source": [
    "# only features that were found in the union above (cut down from 20 to 16 features)\n",
    "\n",
    "informative_features = ['feat_257', 'feat_269', 'feat_308', 'feat_341', 'feat_504',\n",
    "       'feat_681', 'feat_701', 'feat_724', 'feat_736', 'feat_769',\n",
    "       'feat_808', 'feat_829', 'feat_920']"
   ]
  },
  {
   "cell_type": "code",
   "execution_count": 68,
   "metadata": {},
   "outputs": [
    {
     "data": {
      "text/html": [
       "<div>\n",
       "<table border=\"1\" class=\"dataframe\">\n",
       "  <thead>\n",
       "    <tr style=\"text-align: right;\">\n",
       "      <th></th>\n",
       "      <th>feat_257</th>\n",
       "      <th>feat_269</th>\n",
       "      <th>feat_308</th>\n",
       "      <th>feat_341</th>\n",
       "      <th>feat_504</th>\n",
       "      <th>feat_681</th>\n",
       "      <th>feat_701</th>\n",
       "      <th>feat_724</th>\n",
       "      <th>feat_736</th>\n",
       "      <th>feat_769</th>\n",
       "      <th>feat_808</th>\n",
       "      <th>feat_829</th>\n",
       "      <th>feat_920</th>\n",
       "      <th>target</th>\n",
       "    </tr>\n",
       "    <tr>\n",
       "      <th>_id</th>\n",
       "      <th></th>\n",
       "      <th></th>\n",
       "      <th></th>\n",
       "      <th></th>\n",
       "      <th></th>\n",
       "      <th></th>\n",
       "      <th></th>\n",
       "      <th></th>\n",
       "      <th></th>\n",
       "      <th></th>\n",
       "      <th></th>\n",
       "      <th></th>\n",
       "      <th></th>\n",
       "      <th></th>\n",
       "    </tr>\n",
       "  </thead>\n",
       "  <tbody>\n",
       "    <tr>\n",
       "      <th>174089</th>\n",
       "      <td>-0.923105</td>\n",
       "      <td>4.699732</td>\n",
       "      <td>-0.242478</td>\n",
       "      <td>3.962257</td>\n",
       "      <td>1.489408</td>\n",
       "      <td>0.325393</td>\n",
       "      <td>-3.881484</td>\n",
       "      <td>-3.799436</td>\n",
       "      <td>2.024551</td>\n",
       "      <td>-1.388278</td>\n",
       "      <td>0.346974</td>\n",
       "      <td>2.606601</td>\n",
       "      <td>-2.916028</td>\n",
       "      <td>0</td>\n",
       "    </tr>\n",
       "    <tr>\n",
       "      <th>187583</th>\n",
       "      <td>1.833151</td>\n",
       "      <td>-6.826708</td>\n",
       "      <td>1.821904</td>\n",
       "      <td>0.714624</td>\n",
       "      <td>4.829119</td>\n",
       "      <td>-3.244974</td>\n",
       "      <td>7.246274</td>\n",
       "      <td>0.456341</td>\n",
       "      <td>-2.031302</td>\n",
       "      <td>0.545299</td>\n",
       "      <td>1.371061</td>\n",
       "      <td>1.750689</td>\n",
       "      <td>1.061643</td>\n",
       "      <td>1</td>\n",
       "    </tr>\n",
       "    <tr>\n",
       "      <th>187823</th>\n",
       "      <td>-0.012903</td>\n",
       "      <td>-1.278724</td>\n",
       "      <td>-1.154903</td>\n",
       "      <td>-3.054414</td>\n",
       "      <td>-2.913875</td>\n",
       "      <td>0.753169</td>\n",
       "      <td>0.871490</td>\n",
       "      <td>2.709859</td>\n",
       "      <td>-0.148805</td>\n",
       "      <td>0.594875</td>\n",
       "      <td>-1.013036</td>\n",
       "      <td>-2.871605</td>\n",
       "      <td>2.470843</td>\n",
       "      <td>0</td>\n",
       "    </tr>\n",
       "    <tr>\n",
       "      <th>181652</th>\n",
       "      <td>-1.576410</td>\n",
       "      <td>1.739444</td>\n",
       "      <td>-1.718739</td>\n",
       "      <td>2.603980</td>\n",
       "      <td>-1.778501</td>\n",
       "      <td>1.798205</td>\n",
       "      <td>1.959414</td>\n",
       "      <td>-2.316741</td>\n",
       "      <td>3.280165</td>\n",
       "      <td>-3.968717</td>\n",
       "      <td>-0.699272</td>\n",
       "      <td>-2.816292</td>\n",
       "      <td>3.189007</td>\n",
       "      <td>1</td>\n",
       "    </tr>\n",
       "    <tr>\n",
       "      <th>185716</th>\n",
       "      <td>0.696104</td>\n",
       "      <td>2.894396</td>\n",
       "      <td>0.477329</td>\n",
       "      <td>1.617239</td>\n",
       "      <td>-1.518712</td>\n",
       "      <td>2.105841</td>\n",
       "      <td>-2.088652</td>\n",
       "      <td>-0.062887</td>\n",
       "      <td>0.548372</td>\n",
       "      <td>-1.283143</td>\n",
       "      <td>-1.184725</td>\n",
       "      <td>1.249025</td>\n",
       "      <td>-1.132918</td>\n",
       "      <td>0</td>\n",
       "    </tr>\n",
       "  </tbody>\n",
       "</table>\n",
       "</div>"
      ],
      "text/plain": [
       "        feat_257  feat_269  feat_308  feat_341  feat_504  feat_681  feat_701  \\\n",
       "_id                                                                            \n",
       "174089 -0.923105  4.699732 -0.242478  3.962257  1.489408  0.325393 -3.881484   \n",
       "187583  1.833151 -6.826708  1.821904  0.714624  4.829119 -3.244974  7.246274   \n",
       "187823 -0.012903 -1.278724 -1.154903 -3.054414 -2.913875  0.753169  0.871490   \n",
       "181652 -1.576410  1.739444 -1.718739  2.603980 -1.778501  1.798205  1.959414   \n",
       "185716  0.696104  2.894396  0.477329  1.617239 -1.518712  2.105841 -2.088652   \n",
       "\n",
       "        feat_724  feat_736  feat_769  feat_808  feat_829  feat_920  target  \n",
       "_id                                                                         \n",
       "174089 -3.799436  2.024551 -1.388278  0.346974  2.606601 -2.916028       0  \n",
       "187583  0.456341 -2.031302  0.545299  1.371061  1.750689  1.061643       1  \n",
       "187823  2.709859 -0.148805  0.594875 -1.013036 -2.871605  2.470843       0  \n",
       "181652 -2.316741  3.280165 -3.968717 -0.699272 -2.816292  3.189007       1  \n",
       "185716 -0.062887  0.548372 -1.283143 -1.184725  1.249025 -1.132918       0  "
      ]
     },
     "execution_count": 68,
     "metadata": {},
     "output_type": "execute_result"
    }
   ],
   "source": [
    "thirteen_feats_df = df[informative_features]\n",
    "thirteen_feats_df['target'] = df['target']\n",
    "thirteen_feats_df.head()"
   ]
  },
  {
   "cell_type": "markdown",
   "metadata": {},
   "source": [
    "H0: The feature is not important in determining the target variable"
   ]
  },
  {
   "cell_type": "code",
   "execution_count": 69,
   "metadata": {},
   "outputs": [
    {
     "name": "stdout",
     "output_type": "stream",
     "text": [
      "feat_257                  7.171700943545141e-20\n",
      "feat_269                  0.0\n",
      "feat_308                  8.219594497753205e-17\n",
      "feat_341                  1.5204943817269444e-215\n",
      "feat_504                  7.510135616722164e-45\n",
      "feat_681                  0.0\n",
      "feat_701                  0.0\n",
      "feat_724                  3.585360678904233e-45\n",
      "feat_736                  7.982302927516049e-81\n",
      "feat_769                  3.44651774818641e-173\n",
      "feat_808                  5.422579329704858e-106\n",
      "feat_829                  2.99147931655735e-179\n",
      "feat_920                  0.0\n",
      "target                    0.0\n"
     ]
    }
   ],
   "source": [
    "# calculates the p-value of each feature for calculating the target value. With the 0.05 threshold, \n",
    "# the features can again be cut down, this time from 16 features to just 11 features\n",
    "\n",
    "for feat in thirteen_feats_df:\n",
    "    model = ols(\"target ~ {}\".format(feat), thirteen_feats_df).fit()\n",
    "    print(\"{:25} {}\".format(feat, model.pvalues[1]))"
   ]
  },
  {
   "cell_type": "markdown",
   "metadata": {},
   "source": [
    "All p-values are small enough that the null hypothesis is rejected. However, the features that have a 0.0 p-value are most likely the part of the original 5 features, and there are 4 features with a 0.0 p-value and one with a 10^-215 which is virtually equal to 0. These features are 269, 341, 681, 701, and 920."
   ]
  },
  {
   "cell_type": "code",
   "execution_count": null,
   "metadata": {
    "collapsed": true
   },
   "outputs": [],
   "source": []
  }
 ],
 "metadata": {
  "kernelspec": {
   "display_name": "Python 3",
   "language": "python",
   "name": "python3"
  },
  "language_info": {
   "codemirror_mode": {
    "name": "ipython",
    "version": 3
   },
   "file_extension": ".py",
   "mimetype": "text/x-python",
   "name": "python",
   "nbconvert_exporter": "python",
   "pygments_lexer": "ipython3",
   "version": "3.6.2"
  }
 },
 "nbformat": 4,
 "nbformat_minor": 2
}
